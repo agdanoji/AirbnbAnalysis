{
 "cells": [
  {
   "cell_type": "code",
   "execution_count": 1,
   "metadata": {
    "collapsed": true
   },
   "outputs": [],
   "source": [
    "import pandas as pd\n",
    "import numpy as np\n",
    "import seaborn as sns\n",
    "import matplotlib.pyplot as plt\n",
    "import scipy.stats as st\n",
    "from numpy import loadtxt\n",
    "%matplotlib inline"
   ]
  },
  {
   "cell_type": "code",
   "execution_count": 2,
   "metadata": {},
   "outputs": [
    {
     "data": {
      "text/plain": [
       "\"\\n#Create a list of the fileNames\\nfileNames = ['listings_1.csv','listings_2.csv','listings_3.csv','listings_4.csv','listings_5.csv','listings_6.csv','listings_7.csv',\\n            'listings_8.csv','listings_9.csv','listings_10.csv','listings_11.csv','listings_12.csv']\\ncols = ['id','host_response_rate','host_is_superhost','host_identity_verified','cancellation_policy','instant_bookable','number_of_bookings']\\n\\n#Create a list of the globalDataframe that will store the final values\\nfinalDF = pd.DataFrame(columns=cols)\\n\""
      ]
     },
     "execution_count": 2,
     "metadata": {},
     "output_type": "execute_result"
    }
   ],
   "source": [
    "\"\"\"\n",
    "#Create a list of the fileNames\n",
    "fileNames = ['listings_1.csv','listings_2.csv','listings_3.csv','listings_4.csv','listings_5.csv','listings_6.csv','listings_7.csv',\n",
    "            'listings_8.csv','listings_9.csv','listings_10.csv','listings_11.csv','listings_12.csv']\n",
    "cols = ['id','host_response_rate','host_is_superhost','host_identity_verified','cancellation_policy','instant_bookable','number_of_bookings']\n",
    "\n",
    "#Create a list of the globalDataframe that will store the final values\n",
    "finalDF = pd.DataFrame(columns=cols)\n",
    "\"\"\""
   ]
  },
  {
   "cell_type": "code",
   "execution_count": 3,
   "metadata": {},
   "outputs": [
    {
     "data": {
      "text/plain": [
       "\"\\ndef processData(month1DF, month2DF, i):\\n    \\n    #Take a join to get the listings that have been listed on both months\\n    joined_df = month1DF.merge(month2DF, on='id', how='inner')\\n    \\n    #Calculate the number of bookings for a listing based on the difference in the number of reviews\\n    joined_df['number_of_bookings'] = joined_df['number_of_reviews_2'] - joined_df['number_of_reviews_1']\\n    \\n    #Pick the listings that were booked\\n    bookedListingsDF = joined_df[joined_df['number_of_bookings']>0]\\n    \\n    #Drop the unnecessary columns\\n    bookedListingsDF.drop(['number_of_reviews_1', 'number_of_reviews_2'], axis=1, inplace=True)\\n    \\n    #Save the results to the global dataframe\\n    #bookedListingsDF.to_csv('total_bookings_'+str(i)+'.csv', sep=',', index=False)\\n    global finalDF\\n    finalDF = finalDF.append(bookedListingsDF)\\n\""
      ]
     },
     "execution_count": 3,
     "metadata": {},
     "output_type": "execute_result"
    }
   ],
   "source": [
    "\"\"\"\n",
    "def processData(month1DF, month2DF, i):\n",
    "    \n",
    "    #Take a join to get the listings that have been listed on both months\n",
    "    joined_df = month1DF.merge(month2DF, on='id', how='inner')\n",
    "    \n",
    "    #Calculate the number of bookings for a listing based on the difference in the number of reviews\n",
    "    joined_df['number_of_bookings'] = joined_df['number_of_reviews_2'] - joined_df['number_of_reviews_1']\n",
    "    \n",
    "    #Pick the listings that were booked\n",
    "    bookedListingsDF = joined_df[joined_df['number_of_bookings']>0]\n",
    "    \n",
    "    #Drop the unnecessary columns\n",
    "    bookedListingsDF.drop(['number_of_reviews_1', 'number_of_reviews_2'], axis=1, inplace=True)\n",
    "    \n",
    "    #Save the results to the global dataframe\n",
    "    #bookedListingsDF.to_csv('total_bookings_'+str(i)+'.csv', sep=',', index=False)\n",
    "    global finalDF\n",
    "    finalDF = finalDF.append(bookedListingsDF)\n",
    "\"\"\""
   ]
  },
  {
   "cell_type": "code",
   "execution_count": 4,
   "metadata": {},
   "outputs": [
    {
     "data": {
      "text/plain": [
       "\"\\n#Pre-Process Data\\ndef preProcessing():\\n    for i in range(11):\\n        \\n        #Load the data for two consecutive months into dataframes\\n        fullMonth1DF = pd.read_csv(fileNames[i], sep=',')\\n        #Only Manhattan neighbourhood is needed\\n        fullMonth1DF = fullMonth1DF[fullMonth1DF['neighbourhood_group_cleansed']=='Manhattan']\\n        \\n        fullMonth2DF = pd.read_csv(fileNames[i+1], sep=',')\\n        #Only Manhattan neighbourhood is needed\\n        fullMonth2DF = fullMonth2DF[fullMonth2DF['neighbourhood_group_cleansed']=='Manhattan']\\n        \\n        #Now get the required columns from both dataframes\\n        \\n        #for the first month dataframe we only need the listing_id and the number_of_reviews\\n        month1DF = fullMonth1DF[['id','number_of_reviews']].copy()\\n        \\n        month1DF.rename(columns={'number_of_reviews': 'number_of_reviews_1'}, inplace=True)\\n        \\n        #for the second month dataframe we need: listing_id, number_of_reviews, host_is_superhost,\\n        #host_identity_verified, cancellation_policy, instant_bookable\\n        month2DF = fullMonth2DF[['id','number_of_reviews','host_response_rate','host_is_superhost','host_identity_verified','cancellation_policy','instant_bookable']].copy()\\n        month2DF.rename(columns={'number_of_reviews': 'number_of_reviews_2'}, inplace=True)\\n        \\n        processData(month1DF, month2DF, i)    \\n\""
      ]
     },
     "execution_count": 4,
     "metadata": {},
     "output_type": "execute_result"
    }
   ],
   "source": [
    "\"\"\"\n",
    "#Pre-Process Data\n",
    "def preProcessing():\n",
    "    for i in range(11):\n",
    "        \n",
    "        #Load the data for two consecutive months into dataframes\n",
    "        fullMonth1DF = pd.read_csv(fileNames[i], sep=',')\n",
    "        #Only Manhattan neighbourhood is needed\n",
    "        fullMonth1DF = fullMonth1DF[fullMonth1DF['neighbourhood_group_cleansed']=='Manhattan']\n",
    "        \n",
    "        fullMonth2DF = pd.read_csv(fileNames[i+1], sep=',')\n",
    "        #Only Manhattan neighbourhood is needed\n",
    "        fullMonth2DF = fullMonth2DF[fullMonth2DF['neighbourhood_group_cleansed']=='Manhattan']\n",
    "        \n",
    "        #Now get the required columns from both dataframes\n",
    "        \n",
    "        #for the first month dataframe we only need the listing_id and the number_of_reviews\n",
    "        month1DF = fullMonth1DF[['id','number_of_reviews']].copy()\n",
    "        \n",
    "        month1DF.rename(columns={'number_of_reviews': 'number_of_reviews_1'}, inplace=True)\n",
    "        \n",
    "        #for the second month dataframe we need: listing_id, number_of_reviews, host_is_superhost,\n",
    "        #host_identity_verified, cancellation_policy, instant_bookable\n",
    "        month2DF = fullMonth2DF[['id','number_of_reviews','host_response_rate','host_is_superhost','host_identity_verified','cancellation_policy','instant_bookable']].copy()\n",
    "        month2DF.rename(columns={'number_of_reviews': 'number_of_reviews_2'}, inplace=True)\n",
    "        \n",
    "        processData(month1DF, month2DF, i)    \n",
    "\"\"\""
   ]
  },
  {
   "cell_type": "code",
   "execution_count": 5,
   "metadata": {
    "collapsed": true
   },
   "outputs": [],
   "source": [
    "#preProcessing()"
   ]
  },
  {
   "cell_type": "code",
   "execution_count": 6,
   "metadata": {
    "collapsed": true
   },
   "outputs": [],
   "source": [
    "#finalDF.shape"
   ]
  },
  {
   "cell_type": "code",
   "execution_count": 7,
   "metadata": {
    "collapsed": true
   },
   "outputs": [],
   "source": [
    "#finalDF.head()"
   ]
  },
  {
   "cell_type": "code",
   "execution_count": 8,
   "metadata": {
    "collapsed": true
   },
   "outputs": [],
   "source": [
    "#Drop the null valued rows of 'host_response_rate'\n",
    "#finalDF = finalDF[pd.notnull(finalDF['host_response_rate'])]"
   ]
  },
  {
   "cell_type": "code",
   "execution_count": 9,
   "metadata": {
    "collapsed": true
   },
   "outputs": [],
   "source": [
    "#finalDF.shape"
   ]
  },
  {
   "cell_type": "code",
   "execution_count": 10,
   "metadata": {
    "collapsed": true
   },
   "outputs": [],
   "source": [
    "#finalDF = pd.read_csv('total_bookings.csv', sep=',')"
   ]
  },
  {
   "cell_type": "code",
   "execution_count": 11,
   "metadata": {
    "collapsed": true
   },
   "outputs": [],
   "source": [
    "#finalDF.shape"
   ]
  },
  {
   "cell_type": "code",
   "execution_count": 12,
   "metadata": {},
   "outputs": [
    {
     "data": {
      "text/plain": [
       "\"\\ndef True1False0(x):\\n    if x=='t':\\n        return 1\\n    else:\\n        return 0\\n\""
      ]
     },
     "execution_count": 12,
     "metadata": {},
     "output_type": "execute_result"
    }
   ],
   "source": [
    "\"\"\"\n",
    "def True1False0(x):\n",
    "    if x=='t':\n",
    "        return 1\n",
    "    else:\n",
    "        return 0\n",
    "\"\"\""
   ]
  },
  {
   "cell_type": "code",
   "execution_count": 13,
   "metadata": {},
   "outputs": [
    {
     "data": {
      "text/plain": [
       "\"\\ndef canPol(x):\\n    if x=='strict':\\n        return 1\\n    else:\\n        return 0 \\n\""
      ]
     },
     "execution_count": 13,
     "metadata": {},
     "output_type": "execute_result"
    }
   ],
   "source": [
    "\"\"\"\n",
    "def canPol(x):\n",
    "    if x=='strict':\n",
    "        return 1\n",
    "    else:\n",
    "        return 0 \n",
    "\"\"\""
   ]
  },
  {
   "cell_type": "code",
   "execution_count": 14,
   "metadata": {
    "collapsed": true
   },
   "outputs": [],
   "source": [
    "# meanValue = 0.0\n",
    "# def binaryHostResponseValues(x):\n",
    "#     if x>meanValue:\n",
    "#         return 1\n",
    "#     else:\n",
    "#         return 0"
   ]
  },
  {
   "cell_type": "code",
   "execution_count": 15,
   "metadata": {
    "collapsed": true
   },
   "outputs": [],
   "source": [
    "# #Process the finalDF\n",
    "# def processFinalDF(finalDF):\n",
    "    \n",
    "#     finalDF['host_response_rate'] = finalDF['host_response_rate'].apply(lambda x: float(x[:-1]))\n",
    "#     finalDF['host_is_superhost'] = finalDF['host_is_superhost'].apply(lambda x: True1False0(x))\n",
    "#     finalDF['host_identity_verified'] = finalDF['host_identity_verified'].apply(lambda x: True1False0(x))\n",
    "#     finalDF['cancellation_policy'] = finalDF['cancellation_policy'].apply(lambda x: canPol(x))\n",
    "#     finalDF['instant_bookable'] = finalDF['instant_bookable'].apply(lambda x: True1False0(x))\n",
    "    \n",
    "#     global meanValue\n",
    "#     meanValue = finalDF['host_response_rate'].mean()\n",
    "#     bookedListingsDF = finalDF[finalDF['host_response_rate']>0]\n",
    "#     finalDF['host_response_rate'] = finalDF['host_response_rate'].apply(lambda x: binaryHostResponseValues(x))\n",
    "    "
   ]
  },
  {
   "cell_type": "code",
   "execution_count": 16,
   "metadata": {
    "collapsed": true
   },
   "outputs": [],
   "source": [
    "#processFinalDF(finalDF)\n",
    "finalDF = pd.read_csv('total_bookings.csv', sep=',')"
   ]
  },
  {
   "cell_type": "code",
   "execution_count": 17,
   "metadata": {},
   "outputs": [
    {
     "data": {
      "text/html": [
       "<div>\n",
       "<style scoped>\n",
       "    .dataframe tbody tr th:only-of-type {\n",
       "        vertical-align: middle;\n",
       "    }\n",
       "\n",
       "    .dataframe tbody tr th {\n",
       "        vertical-align: top;\n",
       "    }\n",
       "\n",
       "    .dataframe thead th {\n",
       "        text-align: right;\n",
       "    }\n",
       "</style>\n",
       "<table border=\"1\" class=\"dataframe\">\n",
       "  <thead>\n",
       "    <tr style=\"text-align: right;\">\n",
       "      <th></th>\n",
       "      <th>id</th>\n",
       "      <th>host_response_rate</th>\n",
       "      <th>host_is_superhost</th>\n",
       "      <th>host_identity_verified</th>\n",
       "      <th>cancellation_policy</th>\n",
       "      <th>instant_bookable</th>\n",
       "      <th>number_of_bookings</th>\n",
       "    </tr>\n",
       "  </thead>\n",
       "  <tbody>\n",
       "    <tr>\n",
       "      <th>0</th>\n",
       "      <td>14341397</td>\n",
       "      <td>1</td>\n",
       "      <td>1</td>\n",
       "      <td>1</td>\n",
       "      <td>1</td>\n",
       "      <td>0</td>\n",
       "      <td>11</td>\n",
       "    </tr>\n",
       "    <tr>\n",
       "      <th>1</th>\n",
       "      <td>6225501</td>\n",
       "      <td>1</td>\n",
       "      <td>0</td>\n",
       "      <td>1</td>\n",
       "      <td>1</td>\n",
       "      <td>0</td>\n",
       "      <td>1</td>\n",
       "    </tr>\n",
       "    <tr>\n",
       "      <th>2</th>\n",
       "      <td>16055890</td>\n",
       "      <td>0</td>\n",
       "      <td>0</td>\n",
       "      <td>0</td>\n",
       "      <td>0</td>\n",
       "      <td>0</td>\n",
       "      <td>1</td>\n",
       "    </tr>\n",
       "    <tr>\n",
       "      <th>3</th>\n",
       "      <td>9240141</td>\n",
       "      <td>0</td>\n",
       "      <td>0</td>\n",
       "      <td>0</td>\n",
       "      <td>1</td>\n",
       "      <td>0</td>\n",
       "      <td>3</td>\n",
       "    </tr>\n",
       "    <tr>\n",
       "      <th>4</th>\n",
       "      <td>5707711</td>\n",
       "      <td>1</td>\n",
       "      <td>1</td>\n",
       "      <td>1</td>\n",
       "      <td>0</td>\n",
       "      <td>0</td>\n",
       "      <td>3</td>\n",
       "    </tr>\n",
       "  </tbody>\n",
       "</table>\n",
       "</div>"
      ],
      "text/plain": [
       "         id  host_response_rate  host_is_superhost  host_identity_verified  \\\n",
       "0  14341397                   1                  1                       1   \n",
       "1   6225501                   1                  0                       1   \n",
       "2  16055890                   0                  0                       0   \n",
       "3   9240141                   0                  0                       0   \n",
       "4   5707711                   1                  1                       1   \n",
       "\n",
       "   cancellation_policy  instant_bookable  number_of_bookings  \n",
       "0                    1                 0                  11  \n",
       "1                    1                 0                   1  \n",
       "2                    0                 0                   1  \n",
       "3                    1                 0                   3  \n",
       "4                    0                 0                   3  "
      ]
     },
     "execution_count": 17,
     "metadata": {},
     "output_type": "execute_result"
    }
   ],
   "source": [
    "finalDF.head()"
   ]
  },
  {
   "cell_type": "code",
   "execution_count": 18,
   "metadata": {
    "collapsed": true
   },
   "outputs": [],
   "source": [
    "hrrDF = finalDF[['host_response_rate','number_of_bookings']]\n",
    "superhostDF = finalDF[['host_is_superhost','number_of_bookings']]\n",
    "identityDF = finalDF[['host_identity_verified','number_of_bookings']]\n",
    "cancellationDF = finalDF[['cancellation_policy','number_of_bookings']]\n",
    "bookableDF = finalDF[['instant_bookable','number_of_bookings']]"
   ]
  },
  {
   "cell_type": "code",
   "execution_count": 19,
   "metadata": {
    "collapsed": true
   },
   "outputs": [],
   "source": [
    "def WaldsTest2(X, Y):\n",
    "\n",
    "    #Wald's Test\n",
    "\n",
    "    #calculate the sample means for both X and Y\n",
    "    x_sampleMean = np.mean(X)\n",
    "    y_sampleMean = np.mean(Y)\n",
    "\n",
    "    #calculate the variance of X and variance of Y\n",
    "    var_x = np.var(X)\n",
    "    var_y = np.var(Y)\n",
    "\n",
    "    s1_n = np.divide(var_x,len(X))\n",
    "    s2_n = np.divide(var_y,len(Y))\n",
    "    s_hat = np.sqrt(s1_n + s2_n)\n",
    "\n",
    "    #calculate the statistic\n",
    "    diff = x_sampleMean - y_sampleMean\n",
    "    w = np.divide(diff,s_hat)\n",
    "\n",
    "    #check for hypothesis\n",
    "    #alpha = 0.05\n",
    "    zVal = st.norm.ppf(.975)\n",
    "    \n",
    "    lower_ci = diff - zVal*s_hat\n",
    "    upper_ci = diff + zVal*s_hat\n",
    "    \n",
    "    pVal = 2*st.norm.cdf(-abs(w))\n",
    "    \n",
    "    \n",
    "    if abs(w)>zVal:\n",
    "        print(\"absolute(w) = \"+str(abs(w)))\n",
    "        print(\"Z0.025 = \"+str(zVal))\n",
    "        print(\"Null Hypothesis Rejected\")\n",
    "        print(\"CI range: [\"+str(lower_ci)+\", \"+str(upper_ci)+\"]\")\n",
    "        print(\"p-Value is \"+str(pVal))\n",
    "    else:\n",
    "        print(\"absolute(w) = \"+str(abs(w)))\n",
    "        print(\"Z0.025 = \"+str(zVal))\n",
    "        print(\"Null Hypothesis Accepted\")\n",
    "        print(\"CI range: [\"+str(lower_ci)+\", \"+str(upper_ci)+\"]\")\n",
    "        print(\"p-Value is \"+str(pVal))   "
   ]
  },
  {
   "cell_type": "code",
   "execution_count": 20,
   "metadata": {
    "collapsed": true
   },
   "outputs": [],
   "source": [
    "def lowerTailWaldsTest2(X, Y):\n",
    "\n",
    "    #Wald's Test\n",
    "\n",
    "    #calculate the sample means for both X and Y\n",
    "    x_sampleMean = np.mean(X)\n",
    "    y_sampleMean = np.mean(Y)\n",
    "\n",
    "    #calculate the variance of X and variance of Y\n",
    "    var_x = np.var(X)\n",
    "    var_y = np.var(Y)\n",
    "\n",
    "    s1_n = np.divide(var_x,len(X))\n",
    "    s2_n = np.divide(var_y,len(Y))\n",
    "    s_hat = np.sqrt(s1_n + s2_n)\n",
    "\n",
    "    #calculate the statistic\n",
    "    diff = x_sampleMean - y_sampleMean\n",
    "    w = np.divide(diff,s_hat)\n",
    "\n",
    "    #check for hypothesis\n",
    "    #alpha = 0.05\n",
    "    zVal = -(st.norm.ppf(.95))\n",
    "    \n",
    "    #lower_ci = diff - zVal*s_hat\n",
    "    #upper_ci = diff + zVal*s_hat\n",
    "    \n",
    "    #pVal = 2*st.norm.cdf(-abs(w))\n",
    "    \n",
    "    \n",
    "    if w>zVal:\n",
    "        print(\"Single Lower Tail Walds Test\")\n",
    "        print(\"w = \"+str(w))\n",
    "        print(\"Z0.05 = \"+str(zVal))\n",
    "        print(\"Null Hypothesis Accepted\")\n",
    "        #print(\"CI range: [\"+str(lower_ci)+\", \"+str(upper_ci)+\"]\")\n",
    "        #print(\"p-Value is \"+str(pVal))\n",
    "    else:\n",
    "        print(\"Single Lower Tail Walds Test\")\n",
    "        print(\"w = \"+str(w))\n",
    "        print(\"Z0.05 = \"+str(zVal))\n",
    "        print(\"Null Hypothesis Rejected\")\n",
    "        #print(\"CI range: [\"+str(lower_ci)+\", \"+str(upper_ci)+\"]\")\n",
    "        #print(\"p-Value is \"+str(pVal))"
   ]
  },
  {
   "cell_type": "code",
   "execution_count": 21,
   "metadata": {
    "collapsed": true
   },
   "outputs": [],
   "source": [
    "def upperTailWaldsTest2(X, Y):\n",
    "\n",
    "    #Wald's Test\n",
    "\n",
    "    #calculate the sample means for both X and Y\n",
    "    x_sampleMean = np.mean(X)\n",
    "    y_sampleMean = np.mean(Y)\n",
    "\n",
    "    #calculate the variance of X and variance of Y\n",
    "    var_x = np.var(X)\n",
    "    var_y = np.var(Y)\n",
    "\n",
    "    s1_n = np.divide(var_x,len(X))\n",
    "    s2_n = np.divide(var_y,len(Y))\n",
    "    s_hat = np.sqrt(s1_n + s2_n)\n",
    "\n",
    "    #calculate the statistic\n",
    "    diff = x_sampleMean - y_sampleMean\n",
    "    w = np.divide(diff,s_hat)\n",
    "\n",
    "    #check for hypothesis\n",
    "    #alpha = 0.05\n",
    "    zVal = st.norm.ppf(.95)\n",
    "    \n",
    "    #lower_ci = diff - zVal*s_hat\n",
    "    #upper_ci = diff + zVal*s_hat\n",
    "    \n",
    "    #pVal = 2*st.norm.cdf(-abs(w))\n",
    "    \n",
    "    \n",
    "    if w>zVal:\n",
    "        print(\"Single Upper Tail Walds Test\")\n",
    "        print(\"w = \"+str(w))\n",
    "        print(\"Z0.05 = \"+str(zVal))\n",
    "        print(\"Null Hypothesis Rejected\")\n",
    "        #print(\"CI range: [\"+str(lower_ci)+\", \"+str(upper_ci)+\"]\")\n",
    "        #print(\"p-Value is \"+str(pVal))\n",
    "    else:\n",
    "        print(\"Single Upper Tail Walds Test\")\n",
    "        print(\"w = \"+str(w))\n",
    "        print(\"Z0.05 = \"+str(zVal))\n",
    "        print(\"Null Hypothesis Accepted\")\n",
    "        #print(\"CI range: [\"+str(lower_ci)+\", \"+str(upper_ci)+\"]\")\n",
    "        #print(\"p-Value is \"+str(pVal))"
   ]
  },
  {
   "cell_type": "code",
   "execution_count": 22,
   "metadata": {},
   "outputs": [
    {
     "name": "stdout",
     "output_type": "stream",
     "text": [
      "Single Lower Tail Walds Test\n",
      "w = 12.930550455135469\n",
      "Z0.05 = -1.6448536269514722\n",
      "Null Hypothesis Accepted\n"
     ]
    }
   ],
   "source": [
    "#Host Response Rate Lower-Tail Wald's Test\n",
    "hrr2DF = hrrDF[hrrDF['host_response_rate']==1]\n",
    "x_hrr = hrr2DF['number_of_bookings'].tolist()\n",
    "y_hrr = hrrDF['number_of_bookings'].tolist()\n",
    "lowerTailWaldsTest2(x_hrr, y_hrr)"
   ]
  },
  {
   "cell_type": "code",
   "execution_count": 102,
   "metadata": {},
   "outputs": [
    {
     "data": {
      "image/png": "[encoded data removed]",
      "text/plain": [
       "<matplotlib.figure.Figure at 0x12a3a11d0>"
      ]
     },
     "metadata": {},
     "output_type": "display_data"
    }
   ],
   "source": [
    "import matplotlib.pyplot as plt\n",
    "import numpy as np\n",
    "import matplotlib.mlab as mlab\n",
    "import math\n",
    "\n",
    "mu = 0\n",
    "variance = 1\n",
    "sigma = math.sqrt(variance)\n",
    "x = np.linspace(mu - 20*sigma, mu + 20*sigma, 100)\n",
    "plt.plot(x,mlab.normpdf(x, mu, sigma),color=\"blue\")\n",
    "plt.axvline(x=12.930550455135469,ls='--',color=\"red\")\n",
    "plt.axvline(x=-1.644,ls='--',color=\"black\")\n",
    "plt.show()"
   ]
  },
  {
   "cell_type": "code",
   "execution_count": 23,
   "metadata": {},
   "outputs": [
    {
     "name": "stdout",
     "output_type": "stream",
     "text": [
      "Single Lower Tail Walds Test\n",
      "w = 30.375007943612264\n",
      "Z0.05 = -1.6448536269514722\n",
      "Null Hypothesis Accepted\n"
     ]
    }
   ],
   "source": [
    "#Host Response Rate Lower-Tail Wald's Test\n",
    "supHostDF = superhostDF[superhostDF['host_is_superhost']==1]\n",
    "x_sup = supHostDF['number_of_bookings'].tolist()\n",
    "y_sup = superhostDF['number_of_bookings'].tolist()\n",
    "lowerTailWaldsTest2(x_sup, y_sup)"
   ]
  },
  {
   "cell_type": "code",
   "execution_count": 103,
   "metadata": {},
   "outputs": [
    {
     "data": {
      "image/png": "[encoded data removed]",
      "text/plain": [
       "<matplotlib.figure.Figure at 0x120a9b710>"
      ]
     },
     "metadata": {},
     "output_type": "display_data"
    }
   ],
   "source": [
    "import matplotlib.pyplot as plt\n",
    "import numpy as np\n",
    "import matplotlib.mlab as mlab\n",
    "import math\n",
    "\n",
    "mu = 0\n",
    "variance = 1\n",
    "sigma = math.sqrt(variance)\n",
    "x = np.linspace(mu - 50*sigma, mu + 50*sigma, 100)\n",
    "plt.plot(x,mlab.normpdf(x, mu, sigma),color=\"blue\")\n",
    "plt.axvline(x=30.375007943612264,ls='--',color=\"red\")\n",
    "plt.axvline(x=-1.644,ls='--',color=\"black\")\n",
    "plt.show()"
   ]
  },
  {
   "cell_type": "code",
   "execution_count": 24,
   "metadata": {},
   "outputs": [
    {
     "name": "stdout",
     "output_type": "stream",
     "text": [
      "Single Lower Tail Walds Test\n",
      "w = -3.917193688049114\n",
      "Z0.05 = -1.6448536269514722\n",
      "Null Hypothesis Rejected\n"
     ]
    }
   ],
   "source": [
    "#Host Response Rate Lower-Tail Wald's Test\n",
    "idDF = identityDF[identityDF['host_identity_verified']==1]\n",
    "x_id = idDF['number_of_bookings'].tolist()\n",
    "y_id = identityDF['number_of_bookings'].tolist()\n",
    "lowerTailWaldsTest2(x_id, y_id)"
   ]
  },
  {
   "cell_type": "code",
   "execution_count": 104,
   "metadata": {},
   "outputs": [
    {
     "data": {
      "image/png": "[encoded data removed]",
      "text/plain": [
       "<matplotlib.figure.Figure at 0x119eeec88>"
      ]
     },
     "metadata": {},
     "output_type": "display_data"
    }
   ],
   "source": [
    "import matplotlib.pyplot as plt\n",
    "import numpy as np\n",
    "import matplotlib.mlab as mlab\n",
    "import math\n",
    "\n",
    "mu = 0\n",
    "variance = 1\n",
    "sigma = math.sqrt(variance)\n",
    "x = np.linspace(mu - 5*sigma, mu + 5*sigma, 100)\n",
    "plt.plot(x,mlab.normpdf(x, mu, sigma),color=\"blue\")\n",
    "plt.axvline(x=-3.917,ls='--',color=\"red\")\n",
    "plt.axvline(x=-1.644,ls='--',color=\"black\")\n",
    "plt.show()"
   ]
  },
  {
   "cell_type": "code",
   "execution_count": 25,
   "metadata": {},
   "outputs": [
    {
     "name": "stdout",
     "output_type": "stream",
     "text": [
      "Single Lower Tail Walds Test\n",
      "w = -10.853467144364368\n",
      "Z0.05 = -1.6448536269514722\n",
      "Null Hypothesis Rejected\n"
     ]
    }
   ],
   "source": [
    "#Host Response Rate Lower-Tail Wald's Test\n",
    "cancDF = cancellationDF[cancellationDF['cancellation_policy']==0]\n",
    "x_canc = cancDF['number_of_bookings'].tolist()\n",
    "y_canc = cancellationDF['number_of_bookings'].tolist()\n",
    "lowerTailWaldsTest2(x_canc, y_canc)"
   ]
  },
  {
   "cell_type": "code",
   "execution_count": 105,
   "metadata": {},
   "outputs": [
    {
     "data": {
      "image/png": "[encoded data removed]",
      "text/plain": [
       "<matplotlib.figure.Figure at 0x12b88ec18>"
      ]
     },
     "metadata": {},
     "output_type": "display_data"
    }
   ],
   "source": [
    "import matplotlib.pyplot as plt\n",
    "import numpy as np\n",
    "import matplotlib.mlab as mlab\n",
    "import math\n",
    "\n",
    "mu = 0\n",
    "variance = 1\n",
    "sigma = math.sqrt(variance)\n",
    "x = np.linspace(mu - 12*sigma, mu + 12*sigma, 100)\n",
    "plt.plot(x,mlab.normpdf(x, mu, sigma),color=\"blue\")\n",
    "plt.axvline(x=-10.853,ls='--',color=\"red\")\n",
    "plt.axvline(x=-1.644,ls='--',color=\"black\")\n",
    "plt.show()"
   ]
  },
  {
   "cell_type": "code",
   "execution_count": 26,
   "metadata": {},
   "outputs": [
    {
     "name": "stdout",
     "output_type": "stream",
     "text": [
      "Single Lower Tail Walds Test\n",
      "w = 48.84468742721555\n",
      "Z0.05 = -1.6448536269514722\n",
      "Null Hypothesis Accepted\n"
     ]
    }
   ],
   "source": [
    "#Host Response Rate Lower-Tail Wald's Test\n",
    "bookDF = bookableDF[bookableDF['instant_bookable']==1]\n",
    "x_book = bookDF['number_of_bookings'].tolist()\n",
    "y_book = bookableDF['number_of_bookings'].tolist()\n",
    "lowerTailWaldsTest2(x_book, y_book)"
   ]
  },
  {
   "cell_type": "code",
   "execution_count": 107,
   "metadata": {},
   "outputs": [
    {
     "data": {
      "image/png": "[encoded data removed]",
      "text/plain": [
       "<matplotlib.figure.Figure at 0x12a0fba58>"
      ]
     },
     "metadata": {},
     "output_type": "display_data"
    }
   ],
   "source": [
    "import matplotlib.pyplot as plt\n",
    "import numpy as np\n",
    "import matplotlib.mlab as mlab\n",
    "import math\n",
    "\n",
    "mu = 0\n",
    "variance = 1\n",
    "sigma = math.sqrt(variance)\n",
    "x = np.linspace(mu - 55*sigma, mu + 55*sigma, 100)\n",
    "plt.plot(x,mlab.normpdf(x, mu, sigma),color=\"blue\")\n",
    "plt.axvline(x=48.84468742721555,ls='--',color=\"red\")\n",
    "plt.axvline(x=-1.644,ls='--',color=\"black\")\n",
    "plt.show()"
   ]
  },
  {
   "cell_type": "code",
   "execution_count": 27,
   "metadata": {
    "collapsed": true
   },
   "outputs": [],
   "source": [
    "#finalDF.to_csv('total_bookings.csv', sep=',',index=False)"
   ]
  },
  {
   "cell_type": "code",
   "execution_count": 28,
   "metadata": {
    "collapsed": true
   },
   "outputs": [],
   "source": [
    "#Start Applying the Wald's Test Now for each Category"
   ]
  },
  {
   "cell_type": "code",
   "execution_count": 29,
   "metadata": {
    "collapsed": true
   },
   "outputs": [],
   "source": [
    "def WaldsTest(X):\n",
    "    \n",
    "    #X = X[:501]\n",
    "    \n",
    "    p_hat = np.mean(X)\n",
    "    p_zero = 0.5\n",
    "    n = len(X)\n",
    "    \n",
    "    s_hat = np.sqrt((p_hat*(1-p_hat))/n)\n",
    "    \n",
    "    w = np.divide((p_hat - p_zero),s_hat)\n",
    "    \n",
    "    \n",
    "    #alpha = 0.05\n",
    "    zVal = st.norm.ppf(.975)\n",
    "    \n",
    "    lower_ci = p_hat - zVal*s_hat\n",
    "    upper_ci = p_hat + zVal*s_hat\n",
    "    \n",
    "    pVal = 2*st.norm.cdf(-abs(w))\n",
    "    \n",
    "    \n",
    "    #check for hypothesis at alpha = 0.05\n",
    "    zVal = st.norm.ppf(.975)\n",
    "    if abs(w)>zVal:\n",
    "        print(\"absolute(w) = \"+str(abs(w)))\n",
    "        print(\"Z0.025 = \"+str(zVal))\n",
    "        print(\"Null Hypothesis Rejected\")\n",
    "        print(\"CI range: [\"+str(lower_ci)+\", \"+str(upper_ci)+\"]\")\n",
    "        print(\"p-Value is \"+str(pVal))\n",
    "    else:\n",
    "        print(\"absolute(w) = \"+str(abs(w)))\n",
    "        print(\"Z0.025 = \"+str(zVal))\n",
    "        print(\"Null Hypothesis Accepted\")\n",
    "        print(\"CI range: [\"+str(lower_ci)+\", \"+str(upper_ci)+\"]\")\n",
    "        print(\"p-Value is \"+str(pVal))"
   ]
  },
  {
   "cell_type": "code",
   "execution_count": 30,
   "metadata": {
    "collapsed": true
   },
   "outputs": [],
   "source": [
    "def lowerTailWaldsTest(X):\n",
    "    \n",
    "    #X = X[:501]\n",
    "    \n",
    "    p_hat = np.mean(X)\n",
    "    p_zero = 0.5\n",
    "    n = len(X)\n",
    "    \n",
    "    s_hat = np.sqrt((p_hat*(1-p_hat))/n)\n",
    "    \n",
    "    w = np.divide((p_hat - p_zero),s_hat)\n",
    "    \n",
    "    #alpha = 0.05\n",
    "    zVal = -(st.norm.ppf(.95))\n",
    "    \n",
    "    #print(zVal)\n",
    "    \n",
    "    #lower_ci = p_hat - zVal*s_hat\n",
    "    #upper_ci = p_hat + zVal*s_hat\n",
    "    \n",
    "    #pVal = 2*st.norm.cdf(-abs(w))\n",
    "\n",
    "    if w>zVal:\n",
    "        print(\"Single Lower Tail Walds Test\")\n",
    "        print(\"w = \"+str(abs(w)))\n",
    "        print(\"Z0.05 = \"+str(zVal))\n",
    "        print(\"Null Hypothesis Accepted\")\n",
    "        #print(\"CI range: [\"+str(lower_ci)+\", \"+str(upper_ci)+\"]\")\n",
    "        #print(\"p-Value is \"+str(pVal))\n",
    "    else:\n",
    "        print(\"Single Lower Tail Walds Test\")\n",
    "        print(\"w = \"+str(abs(w)))\n",
    "        print(\"Z0.05 = \"+str(zVal))\n",
    "        print(\"Null Hypothesis Rejected\")\n",
    "        #print(\"CI range: [\"+str(lower_ci)+\", \"+str(upper_ci)+\"]\")\n",
    "        #print(\"p-Value is \"+str(pVal))"
   ]
  },
  {
   "cell_type": "code",
   "execution_count": 31,
   "metadata": {
    "collapsed": true
   },
   "outputs": [],
   "source": [
    "def upperTailWaldsTest(X):\n",
    "    \n",
    "    #X = X[:501]\n",
    "    \n",
    "    p_hat = np.mean(X)\n",
    "    p_zero = 0.5\n",
    "    n = len(X)\n",
    "    \n",
    "    s_hat = np.sqrt((p_hat*(1-p_hat))/n)\n",
    "    \n",
    "    w = np.divide((p_hat - p_zero),s_hat)\n",
    "    \n",
    "    #alpha = 0.05\n",
    "    zVal = st.norm.ppf(.95)\n",
    "    \n",
    "    #print(zVal)\n",
    "    \n",
    "    #lower_ci = p_hat - zVal*s_hat\n",
    "    #upper_ci = p_hat + zVal*s_hat\n",
    "    \n",
    "    #pVal = 2*st.norm.cdf(-abs(w))\n",
    "\n",
    "    if w>zVal:\n",
    "        print(\"Single Upper Tail Walds Test\")\n",
    "        print(\"w = \"+str(abs(w)))\n",
    "        print(\"Z0.05 = \"+str(zVal))\n",
    "        print(\"Null Hypothesis Rejected\")\n",
    "        #print(\"CI range: [\"+str(lower_ci)+\", \"+str(upper_ci)+\"]\")\n",
    "        #print(\"p-Value is \"+str(pVal))\n",
    "    else:\n",
    "        print(\"Single Upper Tail Walds Test\")\n",
    "        print(\"w = \"+str(abs(w)))\n",
    "        print(\"Z0.05 = \"+str(zVal))\n",
    "        print(\"Null Hypothesis Accepted\")\n",
    "        #print(\"CI range: [\"+str(lower_ci)+\", \"+str(upper_ci)+\"]\")\n",
    "        #print(\"p-Value is \"+str(pVal))"
   ]
  },
  {
   "cell_type": "code",
   "execution_count": 32,
   "metadata": {
    "scrolled": true
   },
   "outputs": [
    {
     "name": "stdout",
     "output_type": "stream",
     "text": [
      "absolute(w) = 307.28164878337435\n",
      "Z0.025 = 1.959963984540054\n",
      "Null Hypothesis Rejected\n",
      "CI range: [0.8084554643782097, 0.8124156259462568]\n",
      "p-Value is 0.0\n",
      "Single Lower Tail Walds Test\n",
      "w = 307.28164878337435\n",
      "Z0.05 = -1.6448536269514722\n",
      "Null Hypothesis Accepted\n"
     ]
    }
   ],
   "source": [
    "#Null Hypothesis (H0): host_response_rate does not affect whether a listing gets booked; so p_0 = 0.5\n",
    "#Alternative Hypothesis (H1): host_response_rate affects whether a listing gets booked\n",
    "responseRateArray = np.array(finalDF['host_response_rate'].tolist())\n",
    "WaldsTest(responseRateArray)\n",
    "lowerTailWaldsTest(responseRateArray)\n",
    "#upperTailWaldsTest(responseRateArray)"
   ]
  },
  {
   "cell_type": "code",
   "execution_count": 42,
   "metadata": {},
   "outputs": [
    {
     "name": "stderr",
     "output_type": "stream",
     "text": [
      "C:\\Anaconda3\\lib\\site-packages\\ipykernel_launcher.py:10: MatplotlibDeprecationWarning: scipy.stats.norm.pdf\n",
      "  # Remove the CWD from sys.path while we load stuff.\n"
     ]
    },
    {
     "data": {
      "image/png": "[encoded data removed]",
      "text/plain": [
       "<Figure size 432x288 with 1 Axes>"
      ]
     },
     "metadata": {},
     "output_type": "display_data"
    }
   ],
   "source": [
    "import matplotlib.pyplot as plt\n",
    "import numpy as np\n",
    "import matplotlib.mlab as mlab\n",
    "import math\n",
    "\n",
    "mu = 0\n",
    "variance = 1\n",
    "sigma = math.sqrt(variance)\n",
    "x = np.linspace(mu - 350*sigma, mu + 350*sigma, 100)\n",
    "plt.plot(x,mlab.normpdf(x, mu, sigma),color=\"blue\")\n",
    "plt.axvline(x=307.28164878337435,ls='--',color=\"red\")\n",
    "plt.axvline(x=-307.28164878337435,ls='--',color=\"red\")\n",
    "plt.show()"
   ]
  },
  {
   "cell_type": "code",
   "execution_count": 33,
   "metadata": {},
   "outputs": [
    {
     "name": "stdout",
     "output_type": "stream",
     "text": [
      "absolute(w) = 267.20166717913554\n",
      "Z0.025 = 1.959963984540054\n",
      "Null Hypothesis Rejected\n",
      "CI range: [0.21431711775855153, 0.2184776525106414]\n",
      "p-Value is 0.0\n",
      "Single Lower Tail Walds Test\n",
      "w = 267.20166717913554\n",
      "Z0.05 = -1.6448536269514722\n",
      "Null Hypothesis Rejected\n"
     ]
    }
   ],
   "source": [
    "\n",
    "#Null Hypothesis (H0): host_is_superhost does not affect whether a listing gets booked; so p_0 = 0.5\n",
    "#Alternative Hypothesis (H1): host_is_superhost affects whether a listing gets booked\n",
    "hostSuperHostArray =np.array(finalDF['host_is_superhost'].tolist())\n",
    "WaldsTest(hostSuperHostArray)\n",
    "lowerTailWaldsTest(hostSuperHostArray)\n",
    "#upperTailWaldsTest(hostSuperHostArray)"
   ]
  },
  {
   "cell_type": "code",
   "execution_count": 43,
   "metadata": {},
   "outputs": [
    {
     "name": "stderr",
     "output_type": "stream",
     "text": [
      "C:\\Anaconda3\\lib\\site-packages\\ipykernel_launcher.py:10: MatplotlibDeprecationWarning: scipy.stats.norm.pdf\n",
      "  # Remove the CWD from sys.path while we load stuff.\n"
     ]
    },
    {
     "data": {
      "image/png": "[encoded data removed]",
      "text/plain": [
       "<Figure size 432x288 with 1 Axes>"
      ]
     },
     "metadata": {},
     "output_type": "display_data"
    }
   ],
   "source": [
    "import matplotlib.pyplot as plt\n",
    "import numpy as np\n",
    "import matplotlib.mlab as mlab\n",
    "import math\n",
    "\n",
    "mu = 0\n",
    "variance = 1\n",
    "sigma = math.sqrt(variance)\n",
    "x = np.linspace(mu - 350*sigma, mu + 350*sigma, 100)\n",
    "plt.plot(x,mlab.normpdf(x, mu, sigma),color=\"blue\")\n",
    "plt.axvline(x=267.20166717913554,ls='--',color=\"red\")\n",
    "plt.axvline(x=-267.20166717913554,ls='--',color=\"red\")\n",
    "plt.show()"
   ]
  },
  {
   "cell_type": "code",
   "execution_count": 34,
   "metadata": {},
   "outputs": [
    {
     "name": "stdout",
     "output_type": "stream",
     "text": [
      "absolute(w) = 177.33969827240017\n",
      "Z0.025 = 1.959963984540054\n",
      "Null Hypothesis Rejected\n",
      "CI range: [0.7055632592083083, 0.7101578218153157]\n",
      "p-Value is 0.0\n",
      "Single Lower Tail Walds Test\n",
      "w = 177.33969827240017\n",
      "Z0.05 = -1.6448536269514722\n",
      "Null Hypothesis Accepted\n"
     ]
    }
   ],
   "source": [
    "#Null Hypothesis (H0): host_identity_verified does not affect whether a listing gets booked; so p_0 = 0.5\n",
    "#Alternative Hypothesis (H1): host_identity_verified affects whether a listing gets booked\n",
    "hostIdentityVerifiedArray =np.array(finalDF['host_identity_verified'].tolist())\n",
    "WaldsTest(hostIdentityVerifiedArray)\n",
    "lowerTailWaldsTest(hostIdentityVerifiedArray)\n",
    "#upperTailWaldsTest(hostIdentityVerifiedArray)"
   ]
  },
  {
   "cell_type": "code",
   "execution_count": 51,
   "metadata": {},
   "outputs": [
    {
     "name": "stderr",
     "output_type": "stream",
     "text": [
      "C:\\Anaconda3\\lib\\site-packages\\ipykernel_launcher.py:10: MatplotlibDeprecationWarning: scipy.stats.norm.pdf\n",
      "  # Remove the CWD from sys.path while we load stuff.\n"
     ]
    },
    {
     "data": {
      "image/png": "[encoded data removed]",
      "text/plain": [
       "<Figure size 432x288 with 1 Axes>"
      ]
     },
     "metadata": {},
     "output_type": "display_data"
    }
   ],
   "source": [
    "import matplotlib.pyplot as plt\n",
    "import numpy as np\n",
    "import matplotlib.mlab as mlab\n",
    "import math\n",
    "\n",
    "mu = 0\n",
    "variance = 1\n",
    "sigma = math.sqrt(variance)\n",
    "x = np.linspace(mu - 200*sigma, mu + 200*sigma, 100)\n",
    "plt.plot(x,mlab.normpdf(x, mu, sigma),color=\"blue\")\n",
    "plt.axvline(x=177.33969827240017,ls='--',color=\"red\")\n",
    "plt.axvline(x=-177.33969827240017,ls='--',color=\"red\")\n",
    "plt.show()"
   ]
  },
  {
   "cell_type": "code",
   "execution_count": 35,
   "metadata": {},
   "outputs": [
    {
     "name": "stdout",
     "output_type": "stream",
     "text": [
      "absolute(w) = 62.98830097903346\n",
      "Z0.025 = 1.959963984540054\n",
      "Null Hypothesis Rejected\n",
      "CI range: [0.5776335075618556, 0.5826200068278763]\n",
      "p-Value is 0.0\n",
      "Single Lower Tail Walds Test\n",
      "w = 62.98830097903346\n",
      "Z0.05 = -1.6448536269514722\n",
      "Null Hypothesis Accepted\n"
     ]
    }
   ],
   "source": [
    "#Null Hypothesis (H0): cancellation_policy does not affect whether a listing gets booked; so p_0 = 0.5\n",
    "#Alternative Hypothesis (H1): cancellation_policy affects whether a listing gets booked\n",
    "cancellationPolicyArray =np.array(finalDF['cancellation_policy'].tolist())\n",
    "WaldsTest(cancellationPolicyArray)\n",
    "lowerTailWaldsTest(cancellationPolicyArray)\n",
    "#upperTailWaldsTest(cancellationPolicyArray)"
   ]
  },
  {
   "cell_type": "code",
   "execution_count": 50,
   "metadata": {},
   "outputs": [
    {
     "name": "stderr",
     "output_type": "stream",
     "text": [
      "C:\\Anaconda3\\lib\\site-packages\\ipykernel_launcher.py:10: MatplotlibDeprecationWarning: scipy.stats.norm.pdf\n",
      "  # Remove the CWD from sys.path while we load stuff.\n"
     ]
    },
    {
     "data": {
      "image/png": "[encoded data removed]",
      "text/plain": [
       "<Figure size 432x288 with 1 Axes>"
      ]
     },
     "metadata": {},
     "output_type": "display_data"
    }
   ],
   "source": [
    "import matplotlib.pyplot as plt\n",
    "import numpy as np\n",
    "import matplotlib.mlab as mlab\n",
    "import math\n",
    "\n",
    "mu = 0\n",
    "variance = 1\n",
    "sigma = math.sqrt(variance)\n",
    "x = np.linspace(mu - 100*sigma, mu + 100*sigma, 100)\n",
    "plt.plot(x,mlab.normpdf(x, mu, sigma),color=\"blue\")\n",
    "plt.axvline(x=62.98830097903346,ls='--',color=\"red\")\n",
    "plt.axvline(x=-62.98830097903346,ls='--',color=\"red\")\n",
    "plt.show()"
   ]
  },
  {
   "cell_type": "code",
   "execution_count": 36,
   "metadata": {},
   "outputs": [
    {
     "name": "stdout",
     "output_type": "stream",
     "text": [
      "absolute(w) = 144.57924176196713\n",
      "Z0.025 = 1.959963984540054\n",
      "Null Hypothesis Rejected\n",
      "CI range: [0.3230363668130685, 0.327770149091372]\n",
      "p-Value is 0.0\n",
      "Single Lower Tail Walds Test\n",
      "w = 144.57924176196713\n",
      "Z0.05 = -1.6448536269514722\n",
      "Null Hypothesis Rejected\n"
     ]
    }
   ],
   "source": [
    "#Null Hypothesis (H0): instant_bookable does not affect whether a listing gets booked; so p_0 = 0.5\n",
    "#Alternative Hypothesis (H1): instant_bookable affects whether a listing gets booked\n",
    "instantBookableArray =np.array(finalDF['instant_bookable'].tolist())\n",
    "WaldsTest(instantBookableArray)\n",
    "lowerTailWaldsTest(instantBookableArray)\n",
    "#upperTailWaldsTest(instantBookableArray)"
   ]
  },
  {
   "cell_type": "code",
   "execution_count": 49,
   "metadata": {},
   "outputs": [
    {
     "name": "stderr",
     "output_type": "stream",
     "text": [
      "C:\\Anaconda3\\lib\\site-packages\\ipykernel_launcher.py:10: MatplotlibDeprecationWarning: scipy.stats.norm.pdf\n",
      "  # Remove the CWD from sys.path while we load stuff.\n"
     ]
    },
    {
     "data": {
      "image/png": "[encoded data removed]",
      "text/plain": [
       "<Figure size 432x288 with 1 Axes>"
      ]
     },
     "metadata": {},
     "output_type": "display_data"
    }
   ],
   "source": [
    "import matplotlib.pyplot as plt\n",
    "import numpy as np\n",
    "import matplotlib.mlab as mlab\n",
    "import math\n",
    "\n",
    "mu = 0\n",
    "variance = 1\n",
    "sigma = math.sqrt(variance)\n",
    "x = np.linspace(mu - 200*sigma, mu + 200*sigma, 100)\n",
    "plt.plot(x,mlab.normpdf(x, mu, sigma),color=\"blue\")\n",
    "plt.axvline(x=144.57924176196713,ls='--',color=\"red\")\n",
    "plt.axvline(x=-144.57924176196713,ls='--',color=\"red\")\n",
    "plt.show()"
   ]
  },
  {
   "cell_type": "code",
   "execution_count": null,
   "metadata": {
    "collapsed": true
   },
   "outputs": [],
   "source": [
    "\n"
   ]
  }
 ],
 "metadata": {
  "kernelspec": {
   "display_name": "Python 3",
   "language": "python",
   "name": "python3"
  },
  "language_info": {
   "codemirror_mode": {
    "name": "ipython",
    "version": 3
   },
   "file_extension": ".py",
   "mimetype": "text/x-python",
   "name": "python",
   "nbconvert_exporter": "python",
   "pygments_lexer": "ipython3",
   "version": "3.6.1"
  }
 },
 "nbformat": 4,
 "nbformat_minor": 2
}
