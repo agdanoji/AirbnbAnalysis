{
 "cells": [
  {
   "cell_type": "code",
   "execution_count": 2,
   "metadata": {},
   "outputs": [
    {
     "name": "stdout",
     "output_type": "stream",
     "text": [
      "['bathrooms', 'bedrooms', 'beds', 'no_of_amenities', 'number_of_reviews', 'price', 'property_type', 'room_type', 'Distance_from_center', 'No_Metro_Stations', 'neigh_Bath Beach', 'neigh_Battery Park City', 'neigh_Bay Ridge', 'neigh_Bayside', 'neigh_Bensonhurst', 'neigh_Boerum Hill', 'neigh_Brighton Beach', 'neigh_Brooklyn Heights', 'neigh_Bushwick', 'neigh_Canarsie', 'neigh_Carroll Gardens', 'neigh_Chelsea', 'neigh_Chinatown', 'neigh_Civic Center', 'neigh_Clinton Hill', 'neigh_Concourse Village', 'neigh_Crown Heights', 'neigh_East Flatbush', 'neigh_East Harlem', 'neigh_East New York', 'neigh_East Village', 'neigh_Elmhurst', 'neigh_Financial District', 'neigh_Flatbush', 'neigh_Flatlands', 'neigh_Flushing', 'neigh_Forest Hills', 'neigh_Fort Greene', 'neigh_Fort Hamilton', 'neigh_Greenpoint', 'neigh_Greenwich Village', 'neigh_Hamilton Heights', 'neigh_Hudson Square', 'neigh_Inwood', 'neigh_Jackson Heights', 'neigh_Jamaica', 'neigh_Little Italy', 'neigh_Long Island City', 'neigh_Lower East Side', 'neigh_Marble Hill', 'neigh_Midtown', 'neigh_Morningside Heights', 'neigh_Mott Haven', 'neigh_Murray Hill', 'neigh_New Brighton', 'neigh_Ozone Park', 'neigh_Park Slope', 'neigh_Prospect Heights', 'neigh_Red Hook', 'neigh_Rego Park', 'neigh_Richmond Hill', 'neigh_Ridgewood', 'neigh_Riverdale', 'neigh_Roosevelt Island', 'neigh_Sheepshead Bay', 'neigh_Sunnyside', 'neigh_Times Square', 'neigh_Tribeca', 'neigh_Union Square', 'neigh_Upper East Side', 'neigh_Upper West Side', 'neigh_Washington Heights', 'neigh_West Village', 'neigh_Williamsburg', 'neigh_Woodside', 'neigh_Yorkville']\n"
     ]
    }
   ],
   "source": [
    "lst1=['bathrooms', 'bedrooms', 'beds', 'no_of_amenities', 'number_of_reviews',\n",
    "       'price', 'property_type', 'room_type', 'Distance_from_center',\n",
    "       'No_Metro_Stations', 'neigh_Astoria', 'neigh_Bath Beach',\n",
    "       'neigh_Battery Park City', 'neigh_Bay Ridge', 'neigh_Bayside',\n",
    "       'neigh_Belmont', 'neigh_Bensonhurst', 'neigh_Boerum Hill',\n",
    "       'neigh_Brighton Beach', 'neigh_Brooklyn Heights', 'neigh_Brownsville',\n",
    "       'neigh_Bushwick', 'neigh_Canarsie', 'neigh_Carroll Gardens',\n",
    "       'neigh_Chelsea', 'neigh_Chinatown', 'neigh_Civic Center',\n",
    "       'neigh_Clinton Hill', 'neigh_Concourse', 'neigh_Concourse Village',\n",
    "       'neigh_Crown Heights', 'neigh_East Flatbush', 'neigh_East Harlem',\n",
    "       'neigh_East New York', 'neigh_East Village', 'neigh_Elmhurst',\n",
    "       'neigh_Financial District', 'neigh_Flatbush', 'neigh_Flatlands',\n",
    "       'neigh_Flushing', 'neigh_Forest Hills', 'neigh_Fort Greene',\n",
    "       'neigh_Fort Hamilton', 'neigh_Glendale', 'neigh_Gravesend',\n",
    "       'neigh_Greenpoint', 'neigh_Greenwich Village', 'neigh_Hamilton Heights',\n",
    "       'neigh_Howard Beach', 'neigh_Hudson Square', 'neigh_Inwood',\n",
    "       'neigh_Jackson Heights', 'neigh_Jamaica', 'neigh_Kensington',\n",
    "       'neigh_Kingsbridge', 'neigh_Little Italy', 'neigh_Long Island City',\n",
    "       'neigh_Lower East Side', 'neigh_Marble Hill', 'neigh_Maspeth',\n",
    "       'neigh_Midtown', 'neigh_Midwood', 'neigh_Morningside Heights',\n",
    "       'neigh_Morris Heights', 'neigh_Morrisania', 'neigh_Mott Haven',\n",
    "       'neigh_Murray Hill', 'neigh_New Brighton', 'neigh_Ozone Park',\n",
    "       'neigh_Park Slope', 'neigh_Prospect Heights', 'neigh_Red Hook',\n",
    "       'neigh_Rego Park', 'neigh_Richmond Hill', 'neigh_Ridgewood',\n",
    "       'neigh_Riverdale', 'neigh_Roosevelt Island', 'neigh_Sheepshead Bay',\n",
    "       'neigh_St. George', 'neigh_Stapleton', 'neigh_Sunnyside',\n",
    "       'neigh_Sunset Park', 'neigh_Times Square', 'neigh_Tribeca',\n",
    "       'neigh_Union Square', 'neigh_University Heights',\n",
    "       'neigh_Upper East Side', 'neigh_Upper West Side', 'neigh_Utopia',\n",
    "       'neigh_Washington Heights', 'neigh_West Village', 'neigh_Williamsburg',\n",
    "       'neigh_Woodside', 'neigh_Yorkville']\n",
    "\n",
    "lst2=['bathrooms', 'bedrooms', 'beds', 'no_of_amenities', 'number_of_reviews',\n",
    "       'price', 'property_type', 'room_type', 'Distance_from_center',\n",
    "       'No_Metro_Stations', 'neigh_Bath Beach', 'neigh_Battery Park City',\n",
    "       'neigh_Bay Ridge', 'neigh_Bayside', 'neigh_Bedford Park',\n",
    "       'neigh_Bensonhurst', 'neigh_Bergen Beach', 'neigh_Boerum Hill',\n",
    "       'neigh_Brighton Beach', 'neigh_Brooklyn Heights', 'neigh_Bushwick',\n",
    "       'neigh_Canarsie', 'neigh_Carroll Gardens', 'neigh_Chelsea',\n",
    "       'neigh_Chinatown', 'neigh_Civic Center', 'neigh_Clinton Hill',\n",
    "       'neigh_Concourse Village', 'neigh_Crown Heights', 'neigh_DUMBO',\n",
    "       'neigh_East Flatbush', 'neigh_East Harlem', 'neigh_East New York',\n",
    "       'neigh_East Village', 'neigh_Elmhurst', 'neigh_Financial District',\n",
    "       'neigh_Flatbush', 'neigh_Flatlands', 'neigh_Flushing',\n",
    "       'neigh_Forest Hills', 'neigh_Fort Greene', 'neigh_Fort Hamilton',\n",
    "       'neigh_Graniteville', 'neigh_Greenpoint', 'neigh_Greenwich Village',\n",
    "       'neigh_Hamilton Heights', 'neigh_Hudson Square', 'neigh_Inwood',\n",
    "       'neigh_Jackson Heights', 'neigh_Jamaica', 'neigh_Kingsbridge Heights',\n",
    "       'neigh_Little Italy', 'neigh_Long Island City', 'neigh_Lower East Side',\n",
    "       'neigh_Marble Hill', 'neigh_Midtown', 'neigh_Morningside Heights',\n",
    "       'neigh_Mott Haven', 'neigh_Murray Hill', 'neigh_New Brighton',\n",
    "       'neigh_Ozone Park', 'neigh_Park Slope', 'neigh_Parkchester',\n",
    "       'neigh_Port Morris', 'neigh_Prospect Heights', 'neigh_Red Hook',\n",
    "       'neigh_Rego Park', 'neigh_Richmond Hill', 'neigh_Ridgewood',\n",
    "       'neigh_Riverdale', 'neigh_Roosevelt Island', 'neigh_Sheepshead Bay',\n",
    "       'neigh_Sunnyside', 'neigh_Times Square', 'neigh_Tompkinsville',\n",
    "       'neigh_Tribeca', 'neigh_Union Square', 'neigh_Upper East Side',\n",
    "       'neigh_Upper West Side', 'neigh_Van Nest', 'neigh_Washington Heights',\n",
    "       'neigh_West Village', 'neigh_Westerleigh', 'neigh_Williamsburg',\n",
    "       'neigh_Woodside', 'neigh_Yorkville']\n",
    "\n",
    "def intersection(lst1, lst2):\n",
    "    lst3 = [value for value in lst1 if value in lst2]\n",
    "    return lst3\n",
    "\n",
    "print(intersection(lst1, lst2))"
   ]
  },
  {
   "cell_type": "code",
   "execution_count": 8,
   "metadata": {},
   "outputs": [
    {
     "name": "stdout",
     "output_type": "stream",
     "text": [
      "['Astoria', 'Battery Park City', 'Financial District', 'Bushwick', 'Boerum Hill', 'Ridgewood', 'Chinatown', 'Lower East Side', 'Little Italy', 'Tribeca', 'Civic Center', 'Canarsie', 'Carroll Gardens', 'Chelsea', 'Union Square', 'West Village', 'Greenwich Village', 'Midtown', 'Crown Heights', 'Concourse Village', 'East Flatbush', 'Upper East Side', 'East Harlem', 'East Village', 'Elmhurst', 'Williamsburg', 'Flatbush', 'Flushing', 'Forest Hills', 'Clinton Hill', 'Fort Greene', 'Greenpoint', 'Hudson Square', 'Hamilton Heights', 'Morningside Heights', 'Washington Heights', 'Upper West Side', 'Flatlands', 'Times Square', 'Inwood', 'Jackson Heights', 'Jamaica', 'Murray Hill', 'Long Island City', 'Mott Haven', 'Marble Hill', 'Prospect Heights', 'Rego Park', 'Roosevelt Island', 'Sunnyside', 'Woodside', 'Yorkville', 'Bensonhurst', 'Brighton Beach', 'Brooklyn Heights', 'Richmond Hill', 'Park Slope', 'Sheepshead Bay', 'Ozone Park', 'Red Hook', 'Bay Ridge', 'Riverdale', 'Bath Beach', 'New Brighton', 'Fort Hamilton', 'Bayside', 'East New York']\n"
     ]
    }
   ],
   "source": [
    "train=['Astoria', 'Bedford Park', 'Battery Park City',\n",
    "       'Financial District', 'Bushwick', 'Boerum Hill', 'Ridgewood',\n",
    "       'Chinatown', 'Lower East Side', 'Little Italy', 'Tribeca',\n",
    "       'Civic Center', 'Canarsie', 'Carroll Gardens', 'Chelsea',\n",
    "       'Union Square', 'West Village', 'Greenwich Village', 'Midtown',\n",
    "       'Crown Heights', 'Concourse Village', 'East Flatbush',\n",
    "       'Upper East Side', 'East Harlem', 'East Village', 'Elmhurst',\n",
    "       'Williamsburg', 'Flatbush', 'Flushing', 'Forest Hills',\n",
    "       'Clinton Hill', 'Fort Greene', 'Greenpoint', 'Hudson Square',\n",
    "       'Hamilton Heights', 'Morningside Heights', 'Washington Heights',\n",
    "       'Upper West Side', 'Flatlands', 'Times Square', 'Inwood',\n",
    "       'Jackson Heights', 'Jamaica', 'Murray Hill', 'Long Island City',\n",
    "       'Mott Haven', 'Marble Hill', 'Port Morris', 'Prospect Heights',\n",
    "       'Rego Park', 'Roosevelt Island', 'Sunnyside', 'DUMBO', 'Woodside',\n",
    "       'Yorkville', 'Graniteville', 'Bensonhurst', 'Brighton Beach',\n",
    "       'Brooklyn Heights', 'Richmond Hill', 'Westerleigh', 'Park Slope',\n",
    "       'Sheepshead Bay', 'Ozone Park', 'Red Hook', 'Parkchester',\n",
    "       'Kingsbridge Heights', 'Van Nest', 'Tompkinsville', 'Bergen Beach',\n",
    "       'Bay Ridge', 'Riverdale', 'Bath Beach', 'New Brighton',\n",
    "       'Fort Hamilton', 'Bayside', 'East New York']\n",
    "\n",
    "test=['Astoria', 'Ozone Park', 'Bayside', 'Battery Park City',\n",
    "       'Financial District', 'Tribeca', 'Bay Ridge', 'Bushwick',\n",
    "       'Boerum Hill', 'Brighton Beach', 'Brooklyn Heights', 'Chinatown',\n",
    "       'Lower East Side', 'Little Italy', 'Canarsie', 'Carroll Gardens',\n",
    "       'Chelsea', 'Union Square', 'Midtown', 'Civic Center',\n",
    "       'Clinton Hill', 'Crown Heights', 'Concourse Village',\n",
    "       'East Harlem', 'Upper East Side', 'Elmhurst', 'East Village',\n",
    "       'Williamsburg', 'Forest Hills', 'Fort Greene', 'Greenpoint',\n",
    "       'Greenwich Village', 'West Village', 'Hamilton Heights',\n",
    "       'Upper West Side', 'Morningside Heights', 'Flatlands',\n",
    "       'Times Square', 'East New York', 'Washington Heights', 'Inwood',\n",
    "       'Murray Hill', 'Long Island City', 'Mott Haven', 'Marble Hill',\n",
    "       'Fort Hamilton', 'Park Slope', 'Rego Park', 'Ridgewood',\n",
    "       'Roosevelt Island', 'Hudson Square', 'Sunnyside', 'Yorkville',\n",
    "       'Richmond Hill', 'Arrochar', 'Bath Beach', 'Jamaica', 'Belmont',\n",
    "       'Bensonhurst', 'Brownsville', 'Concourse', 'Flatbush',\n",
    "       'East Flatbush', 'Flushing', 'Glendale', 'Gravesend', 'Kensington',\n",
    "       'Howard Beach', 'Jackson Heights', 'Kingsbridge', 'Morrisania',\n",
    "       'Midwood', 'Morris Heights', 'Maspeth', 'New Brighton',\n",
    "       'Riverdale', 'Prospect Heights', 'Red Hook', 'Sheepshead Bay',\n",
    "       'St. George', 'Stapleton', 'Sunset Park', 'Woodside',\n",
    "       'University Heights', 'Utopia']\n",
    "\n",
    "def intersection(lst1, lst2):\n",
    "    lst3 = [value for value in lst1 if value in lst2]\n",
    "    return lst3\n",
    "\n",
    "inter=intersection(train,test)\n",
    "print(inter)"
   ]
  },
  {
   "cell_type": "code",
   "execution_count": 6,
   "metadata": {},
   "outputs": [
    {
     "name": "stdout",
     "output_type": "stream",
     "text": [
      "['Van Nest', 'Westerleigh', 'Tompkinsville', 'Bedford Park', 'Parkchester', 'Graniteville', 'DUMBO', 'Port Morris', 'Kingsbridge Heights', 'Bergen Beach']\n"
     ]
    }
   ],
   "source": [
    "diff=list(set(train) - set(inter))\n",
    "print(diff)"
   ]
  },
  {
   "cell_type": "code",
   "execution_count": 7,
   "metadata": {},
   "outputs": [
    {
     "name": "stdout",
     "output_type": "stream",
     "text": [
      "['Glendale', 'University Heights', 'Midwood', 'Utopia', 'Brownsville', 'Howard Beach', 'Belmont', 'St. George', 'Gravesend', 'Kensington', 'Morris Heights', 'Maspeth', 'Sunset Park', 'Concourse', 'Kingsbridge', 'Arrochar', 'Morrisania', 'Stapleton']\n"
     ]
    }
   ],
   "source": [
    "diff_test=list(set(test) - set(inter))\n",
    "print(diff_test)"
   ]
  },
  {
   "cell_type": "code",
   "execution_count": 2,
   "metadata": {},
   "outputs": [],
   "source": [
    "prop_train=['House', 'Apartment', 'Townhouse', 'Condominium', 'Loft', 'Other',\n",
    "       'Bed & Breakfast', 'Dorm', 'Cabin', 'Villa', 'Hut', 'Boat',\n",
    "       'Plane', 'Treehouse', 'Bungalow', 'Entire Floor', 'Tent',\n",
    "       'Timeshare', 'Boutique hotel', 'Guesthouse', 'Serviced apartment',\n",
    "       'Hostel', 'Island', 'Lighthouse', 'Earth House', 'Chalet',\n",
    "       'Camper/RV', 'Castle', 'Vacation home']\n",
    "\n",
    "prop_test=['House', 'Apartment', 'Other', 'Condominium', 'Townhouse',\n",
    "       'Guesthouse', 'Loft', 'Bed & Breakfast', 'Hostel', 'Dorm', 'Villa',\n",
    "       'Cabin', 'Guest suite', 'Vacation home', 'Castle',\n",
    "       'Boutique hotel', 'Timeshare', 'Bungalow', 'Serviced apartment',\n",
    "       'Boat', 'Lighthouse', 'Earth House', 'Tent', 'Camper/RV']\n",
    "\n",
    "def intersection(lst1, lst2):\n",
    "    lst3 = [value for value in lst1 if value in lst2]\n",
    "    return lst3\n",
    "\n",
    "prop_inter=intersection(prop_train,prop_test)"
   ]
  },
  {
   "cell_type": "code",
   "execution_count": 3,
   "metadata": {},
   "outputs": [
    {
     "name": "stdout",
     "output_type": "stream",
     "text": [
      "['Plane', 'Treehouse', 'Hut', 'Entire Floor', 'Chalet', 'Island']\n"
     ]
    }
   ],
   "source": [
    "diff_train=list(set(prop_train) - set(prop_inter))\n",
    "print(diff_train)"
   ]
  },
  {
   "cell_type": "code",
   "execution_count": 4,
   "metadata": {},
   "outputs": [
    {
     "name": "stdout",
     "output_type": "stream",
     "text": [
      "['Guest suite']\n"
     ]
    }
   ],
   "source": [
    "diff_test=list(set(prop_test) - set(prop_inter))\n",
    "print(diff_test)"
   ]
  },
  {
   "cell_type": "code",
   "execution_count": 5,
   "metadata": {},
   "outputs": [],
   "source": [
    "test=['room_type', 'bathrooms', 'bedrooms', 'beds', 'number_of_reviews',\n",
    "       'no_of_amenities', 'No_Metro_Stations', 'Distance_from_center',\n",
    "       'neigh_Bath Beach', 'neigh_Battery Park City', 'neigh_Bay Ridge',\n",
    "       'neigh_Bayside', 'neigh_Bensonhurst', 'neigh_Boerum Hill',\n",
    "       'neigh_Brighton Beach', 'neigh_Brooklyn Heights', 'neigh_Bushwick',\n",
    "       'neigh_Canarsie', 'neigh_Carroll Gardens', 'neigh_Chelsea',\n",
    "       'neigh_Chinatown', 'neigh_Civic Center', 'neigh_Clinton Hill',\n",
    "       'neigh_Concourse Village', 'neigh_Crown Heights', 'neigh_East Flatbush',\n",
    "       'neigh_East Harlem', 'neigh_East New York', 'neigh_East Village',\n",
    "       'neigh_Elmhurst', 'neigh_Financial District', 'neigh_Flatbush',\n",
    "       'neigh_Flatlands', 'neigh_Flushing', 'neigh_Forest Hills',\n",
    "       'neigh_Fort Greene', 'neigh_Fort Hamilton', 'neigh_Greenpoint',\n",
    "       'neigh_Greenwich Village', 'neigh_Hamilton Heights',\n",
    "       'neigh_Hudson Square', 'neigh_Inwood', 'neigh_Jackson Heights',\n",
    "       'neigh_Jamaica', 'neigh_Little Italy', 'neigh_Long Island City',\n",
    "       'neigh_Lower East Side', 'neigh_Marble Hill', 'neigh_Midtown',\n",
    "       'neigh_Morningside Heights', 'neigh_Mott Haven', 'neigh_Murray Hill',\n",
    "       'neigh_New Brighton', 'neigh_Ozone Park', 'neigh_Park Slope',\n",
    "       'neigh_Prospect Heights', 'neigh_Red Hook', 'neigh_Rego Park',\n",
    "       'neigh_Richmond Hill', 'neigh_Ridgewood', 'neigh_Riverdale',\n",
    "       'neigh_Roosevelt Island', 'neigh_Sheepshead Bay', 'neigh_Sunnyside',\n",
    "       'neigh_Times Square', 'neigh_Tribeca', 'neigh_Union Square',\n",
    "       'neigh_Upper East Side', 'neigh_Upper West Side',\n",
    "       'neigh_Washington Heights', 'neigh_West Village', 'neigh_Williamsburg',\n",
    "       'neigh_Woodside', 'neigh_Yorkville', 'prop_Bed & Breakfast',\n",
    "       'prop_Boutique hotel', 'prop_Bungalow', 'prop_Cabin', 'prop_Camper/RV',\n",
    "       'prop_Condominium', 'prop_Dorm', 'prop_Guesthouse', 'prop_Hostel',\n",
    "       'prop_House', 'prop_Lighthouse', 'prop_Loft', 'prop_Other',\n",
    "       'prop_Serviced apartment', 'prop_Tent', 'prop_Timeshare',\n",
    "       'prop_Townhouse', 'prop_Vacation home', 'prop_Villa']\n",
    "\n",
    "\n",
    "train=['bathrooms', 'bedrooms', 'beds', 'no_of_amenities', 'number_of_reviews',\n",
    "       'room_type', 'Distance_from_center', 'No_Metro_Stations',\n",
    "       'prop_Bed & Breakfast', 'prop_Boat', 'prop_Boutique hotel',\n",
    "       'prop_Bungalow', 'prop_Cabin', 'prop_Camper/RV', 'prop_Castle',\n",
    "       'prop_Condominium', 'prop_Dorm', 'prop_Earth House', 'prop_Guesthouse',\n",
    "       'prop_Hostel', 'prop_House', 'prop_Lighthouse', 'prop_Loft',\n",
    "       'prop_Other', 'prop_Serviced apartment', 'prop_Tent', 'prop_Timeshare',\n",
    "       'prop_Townhouse', 'prop_Vacation home', 'prop_Villa',\n",
    "       'neigh_Bath Beach', 'neigh_Battery Park City', 'neigh_Bay Ridge',\n",
    "       'neigh_Bayside', 'neigh_Bensonhurst', 'neigh_Boerum Hill',\n",
    "       'neigh_Brighton Beach', 'neigh_Brooklyn Heights', 'neigh_Bushwick',\n",
    "       'neigh_Canarsie', 'neigh_Carroll Gardens', 'neigh_Chelsea',\n",
    "       'neigh_Chinatown', 'neigh_Civic Center', 'neigh_Clinton Hill',\n",
    "       'neigh_Concourse Village', 'neigh_Crown Heights', 'neigh_East Flatbush',\n",
    "       'neigh_East Harlem', 'neigh_East New York', 'neigh_East Village',\n",
    "       'neigh_Elmhurst', 'neigh_Financial District', 'neigh_Flatbush',\n",
    "       'neigh_Flatlands', 'neigh_Flushing', 'neigh_Forest Hills',\n",
    "       'neigh_Fort Greene', 'neigh_Fort Hamilton', 'neigh_Greenpoint',\n",
    "       'neigh_Greenwich Village', 'neigh_Hamilton Heights',\n",
    "       'neigh_Hudson Square', 'neigh_Inwood', 'neigh_Jackson Heights',\n",
    "       'neigh_Jamaica', 'neigh_Little Italy', 'neigh_Long Island City',\n",
    "       'neigh_Lower East Side', 'neigh_Marble Hill', 'neigh_Midtown',\n",
    "       'neigh_Morningside Heights', 'neigh_Mott Haven', 'neigh_Murray Hill',\n",
    "       'neigh_New Brighton', 'neigh_Ozone Park', 'neigh_Park Slope',\n",
    "       'neigh_Prospect Heights', 'neigh_Red Hook', 'neigh_Rego Park',\n",
    "       'neigh_Richmond Hill', 'neigh_Ridgewood', 'neigh_Riverdale',\n",
    "       'neigh_Roosevelt Island', 'neigh_Sheepshead Bay', 'neigh_Sunnyside',\n",
    "       'neigh_Times Square', 'neigh_Tribeca', 'neigh_Union Square',\n",
    "       'neigh_Upper East Side', 'neigh_Upper West Side',\n",
    "       'neigh_Washington Heights', 'neigh_West Village', 'neigh_Williamsburg',\n",
    "       'neigh_Woodside', 'neigh_Yorkville']\n",
    "\n",
    "def intersection(lst1, lst2):\n",
    "    lst3 = [value for value in lst1 if value in lst2]\n",
    "    return lst3\n",
    "\n",
    "col_inter=intersection(train,test)"
   ]
  },
  {
   "cell_type": "code",
   "execution_count": 6,
   "metadata": {},
   "outputs": [
    {
     "name": "stdout",
     "output_type": "stream",
     "text": [
      "['prop_Castle', 'prop_Boat', 'prop_Earth House']\n"
     ]
    }
   ],
   "source": [
    "diff_col=list(set(train) - set(col_inter))\n",
    "print(diff_col)"
   ]
  },
  {
   "cell_type": "code",
   "execution_count": 7,
   "metadata": {},
   "outputs": [
    {
     "name": "stdout",
     "output_type": "stream",
     "text": [
      "[]\n"
     ]
    }
   ],
   "source": [
    "diff_col_test=list(set(test) - set(col_inter))\n",
    "print(diff_col_test)"
   ]
  },
  {
   "cell_type": "code",
   "execution_count": 5,
   "metadata": {},
   "outputs": [],
   "source": [
    "p=['Upper East Side', 'Washington Heights', 'Hamilton Heights',\n",
    "       'Chinatown', 'Lower East Side', 'Union Square', 'East Village',\n",
    "       'Chelsea', 'East Harlem', 'Midtown', 'Upper West Side',\n",
    "       'Murray Hill', 'Inwood', 'West Village', 'Financial District',\n",
    "       'Greenwich Village', 'Morningside Heights', 'Roosevelt Island',\n",
    "       'Marble Hill', 'Battery Park City', 'Tribeca', 'Bushwick',\n",
    "       'Civic Center', 'Little Italy', 'Williamsburg', 'Hudson Square',\n",
    "       'Rego Park', 'Fort Greene', 'Elmhurst', 'Ozone Park', 'Astoria',\n",
    "       'Yorkville', 'Crown Heights', 'Ridgewood', 'Brooklyn Heights',\n",
    "       'Carroll Gardens', 'Flatlands', 'Park Slope', 'Times Square',\n",
    "       'Clinton Hill', 'Long Island City', 'Canarsie', 'Sunnyside',\n",
    "       'East Flatbush', 'Forest Hills', 'Concourse Village',\n",
    "       'Boerum Hill', 'Mott Haven', 'Brighton Beach', 'Greenpoint',\n",
    "       'Bay Ridge', 'Riverdale', 'Bath Beach', 'New Brighton', 'Jamaica',\n",
    "       'Fort Hamilton', 'Bayside', 'East New York', 'Richmond Hill']\n",
    "k=['Astoria', 'Ozone Park', 'Bath Beach', 'Bayside',\n",
    "       'Battery Park City', 'Financial District', 'Tribeca', 'Bay Ridge',\n",
    "       'Clinton Hill', 'Jamaica', 'Bensonhurst', 'Boerum Hill',\n",
    "       'Brighton Beach', 'Mott Haven', 'Brooklyn Heights', 'Bushwick',\n",
    "       'Chinatown', 'Lower East Side', 'Canarsie', 'Carroll Gardens',\n",
    "       'Chelsea', 'Midtown', 'Union Square', 'Civic Center',\n",
    "       'Crown Heights', 'Concourse Village', 'East New York', 'Flatbush',\n",
    "       'East Flatbush', 'East Harlem', 'Upper East Side', 'Elmhurst',\n",
    "       'East Village', 'Greenwich Village', 'Flatlands', 'Flushing',\n",
    "       'Forest Hills', 'Fort Greene', 'Richmond Hill', 'Greenpoint',\n",
    "       'Williamsburg', 'Hamilton Heights', 'Upper West Side', 'Inwood',\n",
    "       'Washington Heights', 'Jackson Heights', 'Murray Hill',\n",
    "       'Little Italy', 'Long Island City', 'Sunnyside', 'Marble Hill',\n",
    "       'Ridgewood', 'Morningside Heights', 'New Brighton', 'Riverdale',\n",
    "       'Park Slope', 'Prospect Heights', 'Red Hook', 'Rego Park',\n",
    "       'Roosevelt Island', 'Hudson Square', 'Sheepshead Bay', 'Woodside',\n",
    "       'West Village']\n",
    "\n",
    "def intersection(lst1, lst2):\n",
    "    lst3 = [value for value in lst1 if value in lst2]\n",
    "    return lst3\n",
    "\n",
    "inter=intersection(p,k)"
   ]
  },
  {
   "cell_type": "code",
   "execution_count": 6,
   "metadata": {},
   "outputs": [
    {
     "name": "stdout",
     "output_type": "stream",
     "text": [
      "['Prospect Heights', 'Sheepshead Bay', 'Flatbush', 'Flushing', 'Bensonhurst', 'Woodside', 'Jackson Heights', 'Red Hook']\n"
     ]
    }
   ],
   "source": [
    "diff_col_test=list(set(k) - set(inter))\n",
    "print(diff_col_test)"
   ]
  },
  {
   "cell_type": "code",
   "execution_count": null,
   "metadata": {},
   "outputs": [],
   "source": []
  }
 ],
 "metadata": {
  "kernelspec": {
   "display_name": "Python 3",
   "language": "python",
   "name": "python3"
  },
  "language_info": {
   "codemirror_mode": {
    "name": "ipython",
    "version": 3
   },
   "file_extension": ".py",
   "mimetype": "text/x-python",
   "name": "python",
   "nbconvert_exporter": "python",
   "pygments_lexer": "ipython3",
   "version": "3.5.5"
  }
 },
 "nbformat": 4,
 "nbformat_minor": 2
}
