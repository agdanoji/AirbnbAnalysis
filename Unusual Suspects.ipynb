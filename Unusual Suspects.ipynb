{
 "cells": [
  {
   "cell_type": "code",
   "execution_count": 1,
   "metadata": {
    "collapsed": true
   },
   "outputs": [],
   "source": [
    "import pandas as pd\n",
    "import numpy as np\n",
    "import seaborn as sns\n",
    "import matplotlib.pyplot as plt\n",
    "import scipy.stats as st\n",
    "from numpy import loadtxt\n",
    "%matplotlib inline"
   ]
  },
  {
   "cell_type": "code",
   "execution_count": 2,
   "metadata": {
    "collapsed": true
   },
   "outputs": [],
   "source": [
    "#crime rate classification of Manhattan areas: compared to national average crime rate\n",
    "crime_rate={\"Harlem\":0,\n",
    "\"Midtown\":1,\n",
    "\"Murray Hill\":1,\n",
    "\"Upper West Side\":0,\n",
    "\"Chinatown\":1,\n",
    "\"West Village\":1,\n",
    "\"Chelsea\":1,\n",
    "\"East Village\":0,\n",
    "\"Inwood\":1,\n",
    "\"Lower East Side\":1,\n",
    "\"Upper East Side\":0,\n",
    "\"Washington Heights\":0,\n",
    "\"SoHo\":1,\n",
    "\"Roosevelt Island\":0,\n",
    "\"Little Italy\":1,\n",
    "\"Gramercy\":1,\n",
    "\"Stuyvesant Town\":0,\n",
    "\"Tribeca\":1,\n",
    "\"Battery Park City\":0,\n",
    "\"Civic Center\":1,\n",
    "\"Marble Hill\":0}"
   ]
  },
  {
   "cell_type": "code",
   "execution_count": 3,
   "metadata": {
    "collapsed": true
   },
   "outputs": [],
   "source": [
    "#population area classification of Manhattan areas: 1 = more dense than the average density; 0 = less dense than the\n",
    "#average density\n",
    "pops={\"Harlem\":1,\n",
    "\"Midtown\": 0,\n",
    "\"Murray Hill\":1,\n",
    "\"Upper West Side\":1,\n",
    "\"Chinatown\":1,\n",
    "\"West Village\":0,\n",
    "\"Chelsea\":0,\n",
    "\"East Village\":1,\n",
    "\"Inwood\":0,\n",
    "\"Lower East Side\":1,\n",
    "\"Upper East Side\":1,\n",
    "\"Washington Heights\":1,\n",
    "\"SoHo\":0,\n",
    "\"Roosevelt Island\":1,\n",
    "\"Little Italy\":0,\n",
    "\"Gramercy\":1,\n",
    "\"Stuyvesant Town\":1,\n",
    "\"Tribeca\":0,\n",
    "\"Battery Park City\":0,\n",
    "\"Civic Center\":0,\n",
    "\"Marble Hill\":0}"
   ]
  },
  {
   "cell_type": "code",
   "execution_count": 4,
   "metadata": {
    "collapsed": true
   },
   "outputs": [],
   "source": [
    "highPop_highCrime = ['Murray Hill','Chinatown','Lower East Side','Gramercy']"
   ]
  },
  {
   "cell_type": "code",
   "execution_count": 5,
   "metadata": {
    "collapsed": true
   },
   "outputs": [],
   "source": [
    "highPop_lowCrime = ['Harlem','Upper West Side','East Village','Upper East Side','Washington Heights','Roosevelt Island'\n",
    "                   'Stuyvesant Town']"
   ]
  },
  {
   "cell_type": "code",
   "execution_count": 6,
   "metadata": {
    "collapsed": true
   },
   "outputs": [],
   "source": [
    "fileNames = ['total_bookings_0.csv','total_bookings_1.csv','total_bookings_2.csv','total_bookings_3.csv','total_bookings_4.csv','total_bookings_5.csv','total_bookings_6.csv',\n",
    "            'total_bookings_7.csv','total_bookings_8.csv','total_bookings_9.csv','total_bookings_10.csv']"
   ]
  },
  {
   "cell_type": "code",
   "execution_count": 7,
   "metadata": {
    "collapsed": true
   },
   "outputs": [],
   "source": [
    "avg_bookings_manhattan = []\n",
    "murray_hill_bookings = []\n",
    "chinatown_bookings = []\n",
    "lower_east_side_bookings = []\n",
    "gramercy_bookings = []"
   ]
  },
  {
   "cell_type": "code",
   "execution_count": 8,
   "metadata": {
    "collapsed": true
   },
   "outputs": [],
   "source": [
    "#Get data for Manhattan\n",
    "for i in range(11):   \n",
    "    #Load the data for two consecutive months into dataframes\n",
    "    fullMonthDF = pd.read_csv(fileNames[i], sep=',')\n",
    "    meanVal = fullMonthDF['number_of_bookings'].mean()\n",
    "    avg_bookings_manhattan.append(meanVal)"
   ]
  },
  {
   "cell_type": "code",
   "execution_count": 9,
   "metadata": {
    "collapsed": true
   },
   "outputs": [],
   "source": [
    "#Get Data for Murray Hill\n",
    "#HighPop-HighCrime Area\n",
    "murrayHillFiles = ['murray_hill_bookings_0.csv','murray_hill_bookings_1.csv','murray_hill_bookings_2.csv','murray_hill_bookings_3.csv','murray_hill_bookings_4.csv','murray_hill_bookings_5.csv','murray_hill_bookings_6.csv',\n",
    "            'murray_hill_bookings_7.csv','murray_hill_bookings_8.csv','murray_hill_bookings_9.csv','murray_hill_bookings_10.csv']\n",
    "for i in range(11):     \n",
    "        fullMonthDF = pd.read_csv(murrayHillFiles[i], sep=',')\n",
    "        meanVal = fullMonthDF['number_of_bookings'].mean()\n",
    "        murray_hill_bookings.append(meanVal)"
   ]
  },
  {
   "cell_type": "code",
   "execution_count": 10,
   "metadata": {
    "collapsed": true
   },
   "outputs": [],
   "source": [
    "#Get Data for Chinatown\n",
    "#HighPop-HighCrime Area\n",
    "chinatownFiles = ['chinatown_bookings_0.csv','chinatown_bookings_0.csv','murray_hill_bookings_2.csv','murray_hill_bookings_3.csv','murray_hill_bookings_4.csv','murray_hill_bookings_5.csv','murray_hill_bookings_6.csv',\n",
    "            'murray_hill_bookings_7.csv','murray_hill_bookings_8.csv','murray_hill_bookings_9.csv','murray_hill_bookings_10.csv']\n",
    "for i in range(11):     \n",
    "        fullMonthDF = pd.read_csv(chinatownFiles[i], sep=',')\n",
    "        meanVal = fullMonthDF['number_of_bookings'].mean()\n",
    "        chinatown_bookings.append(meanVal)"
   ]
  },
  {
   "cell_type": "code",
   "execution_count": 11,
   "metadata": {
    "collapsed": true
   },
   "outputs": [],
   "source": [
    "#Get Data for Lower East Side\n",
    "#HighPop-HighCrime Area\n",
    "lowerEastFiles = ['lower_east_side_bookings_0.csv','lower_east_side_bookings_1.csv','lower_east_side_bookings_2.csv','lower_east_side_bookings_3.csv','lower_east_side_bookings_4.csv','lower_east_side_bookings_5.csv','lower_east_side_bookings_6.csv',\n",
    "            'lower_east_side_bookings_7.csv','lower_east_side_bookings_8.csv','lower_east_side_bookings_9.csv','lower_east_side_bookings_10.csv']\n",
    "for i in range(11):     \n",
    "        fullMonthDF = pd.read_csv(lowerEastFiles[i], sep=',')\n",
    "        meanVal = fullMonthDF['number_of_bookings'].mean()\n",
    "        lower_east_side_bookings.append(meanVal)"
   ]
  },
  {
   "cell_type": "code",
   "execution_count": 12,
   "metadata": {
    "collapsed": true
   },
   "outputs": [],
   "source": [
    "#Get Data for Gramercy\n",
    "#HighPop-HighCrime Area\n",
    "gramercyFiles = ['gramercy_bookings_0.csv','gramercy_bookings_1.csv','gramercy_bookings_2.csv','gramercy_bookings_3.csv','gramercy_bookings_4.csv','gramercy_bookings_5.csv','gramercy_bookings_6.csv',\n",
    "            'gramercy_bookings_7.csv','gramercy_bookings_8.csv','gramercy_bookings_9.csv','gramercy_bookings_10.csv']\n",
    "for i in range(11):     \n",
    "        fullMonthDF = pd.read_csv(gramercyFiles[i], sep=',')\n",
    "        meanVal = fullMonthDF['number_of_bookings'].mean()\n",
    "        gramercy_bookings.append(meanVal)"
   ]
  },
  {
   "cell_type": "code",
   "execution_count": 13,
   "metadata": {},
   "outputs": [
    {
     "data": {
      "text/plain": [
       "[2.2107462686567163,\n",
       " 2.3798064347371173,\n",
       " 2.7389930898321815,\n",
       " 2.8912470952749807,\n",
       " 2.9187062937062938,\n",
       " 2.8893257608853937,\n",
       " 2.8137594458438286,\n",
       " 2.783959537572254,\n",
       " 2.877533419577404,\n",
       " 2.934459735658809,\n",
       " 2.7701767870868563]"
      ]
     },
     "execution_count": 13,
     "metadata": {},
     "output_type": "execute_result"
    }
   ],
   "source": [
    "avg_bookings_manhattan"
   ]
  },
  {
   "cell_type": "code",
   "execution_count": 14,
   "metadata": {},
   "outputs": [
    {
     "data": {
      "text/plain": [
       "[2.0597014925373136,\n",
       " 2.1785714285714284,\n",
       " 2.4313725490196076,\n",
       " 2.5625,\n",
       " 2.814814814814815,\n",
       " 2.552941176470588,\n",
       " 3.1690140845070425,\n",
       " 2.72972972972973,\n",
       " 2.7261904761904763,\n",
       " 2.881720430107527,\n",
       " 3.35]"
      ]
     },
     "execution_count": 14,
     "metadata": {},
     "output_type": "execute_result"
    }
   ],
   "source": [
    "murray_hill_bookings"
   ]
  },
  {
   "cell_type": "code",
   "execution_count": 15,
   "metadata": {},
   "outputs": [
    {
     "data": {
      "text/plain": [
       "[1.9456521739130435,\n",
       " 1.9456521739130435,\n",
       " 2.4313725490196076,\n",
       " 2.5625,\n",
       " 2.814814814814815,\n",
       " 2.552941176470588,\n",
       " 3.1690140845070425,\n",
       " 2.72972972972973,\n",
       " 2.7261904761904763,\n",
       " 2.881720430107527,\n",
       " 3.35]"
      ]
     },
     "execution_count": 15,
     "metadata": {},
     "output_type": "execute_result"
    }
   ],
   "source": [
    "chinatown_bookings"
   ]
  },
  {
   "cell_type": "code",
   "execution_count": 16,
   "metadata": {},
   "outputs": [
    {
     "data": {
      "text/plain": [
       "[2.341692789968652,\n",
       " 2.3297872340425534,\n",
       " 2.781132075471698,\n",
       " 3.0,\n",
       " 2.9467455621301775,\n",
       " 2.848396501457726,\n",
       " 2.9966329966329965,\n",
       " 2.719242902208202,\n",
       " 2.835866261398176,\n",
       " 2.7521613832853027,\n",
       " 2.779220779220779]"
      ]
     },
     "execution_count": 16,
     "metadata": {},
     "output_type": "execute_result"
    }
   ],
   "source": [
    "lower_east_side_bookings"
   ]
  },
  {
   "cell_type": "code",
   "execution_count": 17,
   "metadata": {},
   "outputs": [
    {
     "data": {
      "text/plain": [
       "[1.990566037735849,\n",
       " 2.073529411764706,\n",
       " 2.5168539325842696,\n",
       " 2.9345794392523366,\n",
       " 2.8859649122807016,\n",
       " 2.6666666666666665,\n",
       " 2.5844155844155843,\n",
       " 2.4536082474226806,\n",
       " 2.404040404040404,\n",
       " 2.878504672897196,\n",
       " 2.265486725663717]"
      ]
     },
     "execution_count": 17,
     "metadata": {},
     "output_type": "execute_result"
    }
   ],
   "source": [
    "gramercy_bookings"
   ]
  },
  {
   "cell_type": "code",
   "execution_count": 19,
   "metadata": {},
   "outputs": [
    {
     "data": {
      "text/plain": [
       "['Harlem',\n",
       " 'Upper West Side',\n",
       " 'East Village',\n",
       " 'Upper East Side',\n",
       " 'Washington Heights',\n",
       " 'Roosevelt IslandStuyvesant Town']"
      ]
     },
     "execution_count": 19,
     "metadata": {},
     "output_type": "execute_result"
    }
   ],
   "source": [
    " ['Harlem','Upper West Side','East Village','Upper East Side','Washington Heights','Roosevelt Island'\n",
    "                   'Stuyvesant Town']"
   ]
  },
  {
   "cell_type": "code",
   "execution_count": 87,
   "metadata": {
    "collapsed": true
   },
   "outputs": [],
   "source": [
    "harlem_bookings = []\n",
    "upper_west_side_bookings = []\n",
    "east_village_bookings = []\n",
    "upper_east_side_bookings = []\n",
    "washington_heights_bookings = []\n",
    "roosevelt_island_bookings = []\n",
    "stuyvesant_town_bookings = []"
   ]
  },
  {
   "cell_type": "code",
   "execution_count": 88,
   "metadata": {
    "collapsed": true
   },
   "outputs": [],
   "source": [
    "#Get Data for Harlem Hill\n",
    "#HighPop-LowCrime Area\n",
    "harlemFiles = ['harlem_bookings_0.csv','harlem_bookings_0.csv','harlem_bookings_0.csv','harlem_bookings_0.csv','harlem_bookings_0.csv','harlem_bookings_0.csv','harlem_bookings_0.csv',\n",
    "            'harlem_bookings_0.csv','harlem_bookings_0.csv','harlem_bookings_0.csv','harlem_bookings_0.csv']\n",
    "for i in range(11):     \n",
    "        fullMonthDF = pd.read_csv(harlemFiles[i], sep=',')\n",
    "        meanVal = fullMonthDF['number_of_bookings'].mean()\n",
    "        harlem_bookings.append(meanVal)"
   ]
  },
  {
   "cell_type": "code",
   "execution_count": 89,
   "metadata": {
    "collapsed": true
   },
   "outputs": [],
   "source": [
    "#Get Data for Upper West Side Hill\n",
    "#HighPop-LowCrime Area\n",
    "upperWestSideFiles = ['upper_west_side_bookings_0.csv','upper_west_side_bookings_1.csv','upper_west_side_bookings_2.csv','upper_west_side_bookings_3.csv','upper_west_side_bookings_4.csv','upper_west_side_bookings_5.csv','upper_west_side_bookings_6.csv',\n",
    "            'upper_west_side_bookings_7.csv','upper_west_side_bookings_8.csv','upper_west_side_bookings_9.csv','upper_west_side_bookings_10.csv']\n",
    "for i in range(11):     \n",
    "        fullMonthDF = pd.read_csv(murrayHillFiles[i], sep=',')\n",
    "        meanVal = fullMonthDF['number_of_bookings'].mean()\n",
    "        upper_west_side_bookings.append(meanVal)"
   ]
  },
  {
   "cell_type": "code",
   "execution_count": 90,
   "metadata": {
    "collapsed": true
   },
   "outputs": [],
   "source": [
    "#Get Data for East Village Hill\n",
    "#HighPop-LowCrime Area\n",
    "eastVillageFiles = ['east_village_bookings_0.csv','east_village_bookings_1.csv','east_village_bookings_2.csv','east_village_bookings_3.csv','east_village_bookings_4.csv','east_village_bookings_5.csv','east_village_bookings_6.csv',\n",
    "            'east_village_bookings_7.csv','east_village_bookings_8.csv','east_village_bookings_9.csv','east_village_bookings_10.csv']\n",
    "for i in range(11):     \n",
    "        fullMonthDF = pd.read_csv(eastVillageFiles[i], sep=',')\n",
    "        meanVal = fullMonthDF['number_of_bookings'].mean()\n",
    "        east_village_bookings.append(meanVal)"
   ]
  },
  {
   "cell_type": "code",
   "execution_count": 91,
   "metadata": {
    "collapsed": true
   },
   "outputs": [],
   "source": [
    "#Get Data for Upper East Side\n",
    "#HighPop-LowCrime Area\n",
    "upperEastSideFiles = ['upper_east_side_bookings_0.csv','upper_east_side_bookings_1.csv','upper_east_side_bookings_2.csv','upper_east_side_bookings_3.csv','upper_east_side_bookings_4.csv','upper_east_side_bookings_5.csv','upper_east_side_bookings_6.csv',\n",
    "            'upper_east_side_bookings_7.csv','upper_east_side_bookings_8.csv','upper_east_side_bookings_9.csv','upper_east_side_bookings_10.csv']\n",
    "for i in range(11):     \n",
    "        fullMonthDF = pd.read_csv(upperEastSideFiles[i], sep=',')\n",
    "        meanVal = fullMonthDF['number_of_bookings'].mean()\n",
    "        upper_east_side_bookings.append(meanVal)"
   ]
  },
  {
   "cell_type": "code",
   "execution_count": 92,
   "metadata": {},
   "outputs": [],
   "source": [
    "#Get Data for Washington Heights\n",
    "#HighPop-LowCrime Area\n",
    "washingtonHeightsFiles = ['washington_heights_bookings_0.csv','washington_heights_bookings_1.csv','washington_heights_bookings_2.csv','washington_heights_bookings_3.csv','washington_heights_bookings_4.csv','washington_heights_bookings_5.csv','washington_heights_bookings_6.csv',\n",
    "            'washington_heights_bookings_7.csv','washington_heights_bookings_8.csv','washington_heights_bookings_9.csv','washington_heights_bookings_10.csv']\n",
    "for i in range(11):     \n",
    "        fullMonthDF = pd.read_csv(washingtonHeightsFiles[i], sep=',')\n",
    "        meanVal = fullMonthDF['number_of_bookings'].mean()\n",
    "        washington_heights_bookings.append(meanVal)"
   ]
  },
  {
   "cell_type": "code",
   "execution_count": 93,
   "metadata": {
    "collapsed": true
   },
   "outputs": [],
   "source": [
    "#Get Data for Roosevelt Island\n",
    "#HighPop-LowCrime Area\n",
    "rooseveltIslandFiles = ['roosevelt_island_bookings_0.csv','roosevelt_island_bookings_1.csv','roosevelt_island_bookings_2.csv','roosevelt_island_bookings_3.csv','roosevelt_island_bookings_4.csv','roosevelt_island_bookings_5.csv','roosevelt_island_bookings_6.csv',\n",
    "            'roosevelt_island_bookings_7.csv','roosevelt_island_bookings_8.csv','roosevelt_island_bookings_9.csv','roosevelt_island_bookings_10.csv']\n",
    "for i in range(11):     \n",
    "        fullMonthDF = pd.read_csv(rooseveltIslandFiles[i], sep=',')\n",
    "        meanVal = fullMonthDF['number_of_bookings'].mean()\n",
    "        roosevelt_island_bookings.append(meanVal)"
   ]
  },
  {
   "cell_type": "code",
   "execution_count": 94,
   "metadata": {
    "collapsed": true
   },
   "outputs": [],
   "source": [
    "#Get Data for STown\n",
    "#HighPop-LowCrime Area\n",
    "sTownFiles = ['s_town_bookings_0.csv','s_town_bookings_1.csv','s_town_bookings_2.csv','s_town_bookings_3.csv','s_town_bookings_4.csv','s_town_bookings_5.csv','s_town_bookings_6.csv',\n",
    "            's_town_bookings_7.csv','s_town_bookings_8.csv','s_town_bookings_9.csv','s_town_bookings_10.csv']\n",
    "for i in range(11):     \n",
    "        fullMonthDF = pd.read_csv(sTownFiles[i], sep=',')\n",
    "        meanVal = fullMonthDF['number_of_bookings'].mean()\n",
    "        stuyvesant_town_bookings.append(meanVal)"
   ]
  },
  {
   "cell_type": "code",
   "execution_count": 95,
   "metadata": {},
   "outputs": [
    {
     "data": {
      "text/plain": [
       "[2.0,\n",
       " 2.2,\n",
       " 2.111111111111111,\n",
       " 1.9,\n",
       " 2.0,\n",
       " 1.9,\n",
       " 2.7777777777777777,\n",
       " 2.0,\n",
       " 2.857142857142857,\n",
       " 2.75,\n",
       " 2.6]"
      ]
     },
     "execution_count": 95,
     "metadata": {},
     "output_type": "execute_result"
    }
   ],
   "source": [
    "stuyvesant_town_bookings"
   ]
  },
  {
   "cell_type": "code",
   "execution_count": 124,
   "metadata": {
    "collapsed": true
   },
   "outputs": [],
   "source": [
    "def WaldsTest(X, Y):\n",
    "\n",
    "    #Wald's Test\n",
    "\n",
    "    #calculate the sample means for both X and Y\n",
    "    x_sampleMean = np.mean(X)\n",
    "    y_sampleMean = np.mean(Y)\n",
    "\n",
    "    #calculate the variance of X and variance of Y\n",
    "    var_x = np.var(X)\n",
    "    var_y = np.var(Y)\n",
    "\n",
    "    s1_n = np.divide(var_x,len(X))\n",
    "    s2_n = np.divide(var_y,len(Y))\n",
    "    s_hat = np.sqrt(s1_n + s2_n)\n",
    "\n",
    "    #calculate the statistic\n",
    "    diff = x_sampleMean - y_sampleMean\n",
    "    w = np.divide(diff,s_hat)\n",
    "\n",
    "    #check for hypothesis\n",
    "    #alpha = 0.05\n",
    "    zVal = st.norm.ppf(.975)\n",
    "    \n",
    "    lower_ci = diff - zVal*s_hat\n",
    "    upper_ci = diff + zVal*s_hat\n",
    "    \n",
    "    pVal = 2*st.norm.cdf(-abs(w))\n",
    "    \n",
    "    \n",
    "    if abs(w)>zVal:\n",
    "        print(\"absolute(w) = \"+str(abs(w)))\n",
    "        print(\"Z0.025 = \"+str(zVal))\n",
    "        print(\"Null Hypothesis Rejected\")\n",
    "        print(\"CI range: [\"+str(lower_ci)+\", \"+str(upper_ci)+\"]\")\n",
    "        print(\"p-Value is \"+str(pVal))\n",
    "    else:\n",
    "        print(\"absolute(w) = \"+str(abs(w)))\n",
    "        print(\"Z0.025 = \"+str(zVal))\n",
    "        print(\"Null Hypothesis Accepted\")\n",
    "        print(\"CI range: [\"+str(lower_ci)+\", \"+str(upper_ci)+\"]\")\n",
    "        print(\"p-Value is \"+str(pVal))   "
   ]
  },
  {
   "cell_type": "code",
   "execution_count": 125,
   "metadata": {
    "collapsed": true
   },
   "outputs": [],
   "source": [
    "def lowerTailWaldsTest(X, Y):\n",
    "\n",
    "    #Wald's Test\n",
    "\n",
    "    #calculate the sample means for both X and Y\n",
    "    x_sampleMean = np.mean(X)\n",
    "    y_sampleMean = np.mean(Y)\n",
    "\n",
    "    #calculate the variance of X and variance of Y\n",
    "    var_x = np.var(X)\n",
    "    var_y = np.var(Y)\n",
    "\n",
    "    s1_n = np.divide(var_x,len(X))\n",
    "    s2_n = np.divide(var_y,len(Y))\n",
    "    s_hat = np.sqrt(s1_n + s2_n)\n",
    "\n",
    "    #calculate the statistic\n",
    "    diff = x_sampleMean - y_sampleMean\n",
    "    w = np.divide(diff,s_hat)\n",
    "\n",
    "    #check for hypothesis\n",
    "    #alpha = 0.05\n",
    "    zVal = -(st.norm.ppf(.95))\n",
    "    \n",
    "    #lower_ci = diff - zVal*s_hat\n",
    "    #upper_ci = diff + zVal*s_hat\n",
    "    \n",
    "    #pVal = 2*st.norm.cdf(-abs(w))\n",
    "    \n",
    "    \n",
    "    if w>zVal:\n",
    "        print(\"Single Lower Tail Walds Test\")\n",
    "        print(\"w = \"+str(w))\n",
    "        print(\"Z0.05 = \"+str(zVal))\n",
    "        print(\"Null Hypothesis Accepted\")\n",
    "        #print(\"CI range: [\"+str(lower_ci)+\", \"+str(upper_ci)+\"]\")\n",
    "        #print(\"p-Value is \"+str(pVal))\n",
    "    else:\n",
    "        print(\"Single Lower Tail Walds Test\")\n",
    "        print(\"w = \"+str(w))\n",
    "        print(\"Z0.05 = \"+str(zVal))\n",
    "        print(\"Null Hypothesis Rejected\")\n",
    "        #print(\"CI range: [\"+str(lower_ci)+\", \"+str(upper_ci)+\"]\")\n",
    "        #print(\"p-Value is \"+str(pVal))"
   ]
  },
  {
   "cell_type": "code",
   "execution_count": 126,
   "metadata": {
    "collapsed": true
   },
   "outputs": [],
   "source": [
    "def upperTailWaldsTest(X, Y):\n",
    "\n",
    "    #Wald's Test\n",
    "\n",
    "    #calculate the sample means for both X and Y\n",
    "    x_sampleMean = np.mean(X)\n",
    "    y_sampleMean = np.mean(Y)\n",
    "\n",
    "    #calculate the variance of X and variance of Y\n",
    "    var_x = np.var(X)\n",
    "    var_y = np.var(Y)\n",
    "\n",
    "    s1_n = np.divide(var_x,len(X))\n",
    "    s2_n = np.divide(var_y,len(Y))\n",
    "    s_hat = np.sqrt(s1_n + s2_n)\n",
    "\n",
    "    #calculate the statistic\n",
    "    diff = x_sampleMean - y_sampleMean\n",
    "    w = np.divide(diff,s_hat)\n",
    "\n",
    "    #check for hypothesis\n",
    "    #alpha = 0.05\n",
    "    zVal = st.norm.ppf(.95)\n",
    "    \n",
    "    #lower_ci = diff - zVal*s_hat\n",
    "    #upper_ci = diff + zVal*s_hat\n",
    "    \n",
    "    #pVal = 2*st.norm.cdf(-abs(w))\n",
    "    \n",
    "    \n",
    "    if w>zVal:\n",
    "        print(\"Single Upper Tail Walds Test\")\n",
    "        print(\"w = \"+str(w))\n",
    "        print(\"Z0.05 = \"+str(zVal))\n",
    "        print(\"Null Hypothesis Rejected\")\n",
    "        #print(\"CI range: [\"+str(lower_ci)+\", \"+str(upper_ci)+\"]\")\n",
    "        #print(\"p-Value is \"+str(pVal))\n",
    "    else:\n",
    "        print(\"Single Upper Tail Walds Test\")\n",
    "        print(\"w = \"+str(w))\n",
    "        print(\"Z0.05 = \"+str(zVal))\n",
    "        print(\"Null Hypothesis Accepted\")\n",
    "        #print(\"CI range: [\"+str(lower_ci)+\", \"+str(upper_ci)+\"]\")\n",
    "        #print(\"p-Value is \"+str(pVal))"
   ]
  },
  {
   "cell_type": "code",
   "execution_count": 127,
   "metadata": {},
   "outputs": [
    {
     "name": "stdout",
     "output_type": "stream",
     "text": [
      "absolute(w) = 0.5277853431563329\n",
      "Z0.025 = 1.959963984540054\n",
      "Null Hypothesis Accepted\n",
      "CI range: [-0.18554791572592733, 0.32230385879561985]\n",
      "p-Value is 0.5976483311297384\n",
      "Single Upper Tail Walds Test\n",
      "w = 0.5277853431563329\n",
      "Z0.05 = 1.6448536269514722\n",
      "Null Hypothesis Accepted\n"
     ]
    }
   ],
   "source": [
    "#HighPop-High Crime\n",
    "WaldsTest(avg_bookings_manhattan, murray_hill_bookings)\n",
    "#lowerTailWaldsTest(avg_bookings_manhattan, murray_hill_bookings)\n",
    "upperTailWaldsTest(avg_bookings_manhattan, murray_hill_bookings)"
   ]
  },
  {
   "cell_type": "code",
   "execution_count": 128,
   "metadata": {},
   "outputs": [
    {
     "name": "stdout",
     "output_type": "stream",
     "text": [
      "absolute(w) = 0.700652332081247\n",
      "Z0.025 = 1.959963984540054\n",
      "Null Hypothesis Accepted\n",
      "CI range: [-0.1795914053717953, 0.3794325435837884]\n",
      "p-Value is 0.48352001095736474\n",
      "Single Upper Tail Walds Test\n",
      "w = 0.700652332081247\n",
      "Z0.05 = 1.6448536269514722\n",
      "Null Hypothesis Accepted\n"
     ]
    }
   ],
   "source": [
    "#HighPop-High Crime\n",
    "WaldsTest(avg_bookings_manhattan, chinatown_bookings)\n",
    "#lowerTailWaldsTest(avg_bookings_manhattan, chinatown_bookings)\n",
    "upperTailWaldsTest(avg_bookings_manhattan, chinatown_bookings)"
   ]
  },
  {
   "cell_type": "code",
   "execution_count": 129,
   "metadata": {},
   "outputs": [
    {
     "name": "stdout",
     "output_type": "stream",
     "text": [
      "absolute(w) = 0.1177653329835712\n",
      "Z0.025 = 1.959963984540054\n",
      "Null Hypothesis Accepted\n",
      "CI range: [-0.19594051989352654, 0.17372877135090356]\n",
      "p-Value is 0.9062535986271677\n",
      "Single Upper Tail Walds Test\n",
      "w = -0.1177653329835712\n",
      "Z0.05 = 1.6448536269514722\n",
      "Null Hypothesis Accepted\n"
     ]
    }
   ],
   "source": [
    "#HighPop-High Crime\n",
    "WaldsTest(avg_bookings_manhattan, lower_east_side_bookings)\n",
    "#lowerTailWaldsTest(avg_bookings_manhattan, lower_east_side_bookings)\n",
    "upperTailWaldsTest(avg_bookings_manhattan, lower_east_side_bookings)"
   ]
  },
  {
   "cell_type": "code",
   "execution_count": 130,
   "metadata": {},
   "outputs": [
    {
     "name": "stdout",
     "output_type": "stream",
     "text": [
      "absolute(w) = 2.0364937716134155\n",
      "Z0.025 = 1.959963984540054\n",
      "Null Hypothesis Rejected\n",
      "CI range: [0.008726905485060305, 0.45572724617088967]\n",
      "p-Value is 0.04170079789581564\n",
      "Single Upper Tail Walds Test\n",
      "w = 2.0364937716134155\n",
      "Z0.05 = 1.6448536269514722\n",
      "Null Hypothesis Rejected\n"
     ]
    }
   ],
   "source": [
    "#HighPop-High Crime\n",
    "#Gramercy is the answer\n",
    "WaldsTest(avg_bookings_manhattan, gramercy_bookings)\n",
    "#lowerTailWaldsTest(avg_bookings_manhattan, gramercy_bookings)\n",
    "upperTailWaldsTest(avg_bookings_manhattan, gramercy_bookings)"
   ]
  },
  {
   "cell_type": "code",
   "execution_count": 131,
   "metadata": {},
   "outputs": [
    {
     "name": "stdout",
     "output_type": "stream",
     "text": [
      "absolute(w) = 10.61937722913183\n",
      "Z0.025 = 1.959963984540054\n",
      "Null Hypothesis Rejected\n",
      "CI range: [0.5846364501067176, 0.8492886508719748]\n",
      "p-Value is 2.4217133799753464e-26\n",
      "Single Lower Tail Walds Test\n",
      "w = 10.61937722913183\n",
      "Z0.05 = -1.6448536269514722\n",
      "Null Hypothesis Accepted\n"
     ]
    }
   ],
   "source": [
    "#HighPop-Low Crime\n",
    "WaldsTest(avg_bookings_manhattan, harlem_bookings)\n",
    "lowerTailWaldsTest(avg_bookings_manhattan, harlem_bookings)\n",
    "#upperTailWaldsTest(avg_bookings_manhattan, harlem_bookings)"
   ]
  },
  {
   "cell_type": "code",
   "execution_count": 132,
   "metadata": {},
   "outputs": [
    {
     "name": "stdout",
     "output_type": "stream",
     "text": [
      "absolute(w) = 0.5277853431563329\n",
      "Z0.025 = 1.959963984540054\n",
      "Null Hypothesis Accepted\n",
      "CI range: [-0.18554791572592733, 0.32230385879561985]\n",
      "p-Value is 0.5976483311297384\n",
      "Single Lower Tail Walds Test\n",
      "w = 0.5277853431563329\n",
      "Z0.05 = -1.6448536269514722\n",
      "Null Hypothesis Accepted\n"
     ]
    }
   ],
   "source": [
    "#HighPop-Low Crime\n",
    "WaldsTest(avg_bookings_manhattan, upper_west_side_bookings)\n",
    "lowerTailWaldsTest(avg_bookings_manhattan, upper_west_side_bookings)\n",
    "#upperTailWaldsTest(avg_bookings_manhattan, upper_west_side_bookings)"
   ]
  },
  {
   "cell_type": "code",
   "execution_count": 133,
   "metadata": {},
   "outputs": [
    {
     "name": "stdout",
     "output_type": "stream",
     "text": [
      "absolute(w) = 0.6048675690491755\n",
      "Z0.025 = 1.959963984540054\n",
      "Null Hypothesis Accepted\n",
      "CI range: [-0.11989831187416597, 0.22693512432142735]\n",
      "p-Value is 0.5452669932469625\n",
      "Single Lower Tail Walds Test\n",
      "w = 0.6048675690491755\n",
      "Z0.05 = -1.6448536269514722\n",
      "Null Hypothesis Accepted\n"
     ]
    }
   ],
   "source": [
    "#HighPop-Low Crime\n",
    "WaldsTest(avg_bookings_manhattan, east_village_bookings)\n",
    "lowerTailWaldsTest(avg_bookings_manhattan, east_village_bookings)\n",
    "#upperTailWaldsTest(avg_bookings_manhattan, east_village_bookings)"
   ]
  },
  {
   "cell_type": "code",
   "execution_count": 134,
   "metadata": {},
   "outputs": [
    {
     "name": "stdout",
     "output_type": "stream",
     "text": [
      "absolute(w) = 1.1204035990062675\n",
      "Z0.025 = 1.959963984540054\n",
      "Null Hypothesis Accepted\n",
      "CI range: [-0.08307683960200804, 0.30481095590378393]\n",
      "p-Value is 0.262541811964631\n",
      "Single Lower Tail Walds Test\n",
      "w = 1.1204035990062675\n",
      "Z0.05 = -1.6448536269514722\n",
      "Null Hypothesis Accepted\n"
     ]
    }
   ],
   "source": [
    "#HighPop-Low Crime\n",
    "WaldsTest(avg_bookings_manhattan, upper_east_side_bookings)\n",
    "lowerTailWaldsTest(avg_bookings_manhattan, upper_east_side_bookings)\n",
    "#upperTailWaldsTest(avg_bookings_manhattan, upper_east_side_bookings)"
   ]
  },
  {
   "cell_type": "code",
   "execution_count": 135,
   "metadata": {},
   "outputs": [
    {
     "name": "stdout",
     "output_type": "stream",
     "text": [
      "absolute(w) = 1.8684332467037863\n",
      "Z0.025 = 1.959963984540054\n",
      "Null Hypothesis Accepted\n",
      "CI range: [-0.011610425949102665, 0.48562180976425917]\n",
      "p-Value is 0.06170170654170397\n",
      "Single Lower Tail Walds Test\n",
      "w = 1.8684332467037863\n",
      "Z0.05 = -1.6448536269514722\n",
      "Null Hypothesis Accepted\n"
     ]
    }
   ],
   "source": [
    "#HighPop-Low Crime\n",
    "WaldsTest(avg_bookings_manhattan, wahsington_heights_bookings)\n",
    "lowerTailWaldsTest(avg_bookings_manhattan, washington_heights_bookings)\n",
    "#upperTailWaldsTest(avg_bookings_manhattan, washington_heights_bookings)"
   ]
  },
  {
   "cell_type": "code",
   "execution_count": 136,
   "metadata": {},
   "outputs": [
    {
     "name": "stdout",
     "output_type": "stream",
     "text": [
      "absolute(w) = 0.42853394309837134\n",
      "Z0.025 = 1.959963984540054\n",
      "Null Hypothesis Accepted\n",
      "CI range: [-0.2579566179816029, 0.4023225552566894]\n",
      "p-Value is 0.6682624266947639\n",
      "Single Lower Tail Walds Test\n",
      "w = 0.42853394309837134\n",
      "Z0.05 = -1.6448536269514722\n",
      "Null Hypothesis Accepted\n"
     ]
    }
   ],
   "source": [
    "#HighPop-Low Crime\n",
    "WaldsTest(avg_bookings_manhattan, roosevelt_island_bookings)\n",
    "lowerTailWaldsTest(avg_bookings_manhattan, roosevelt_island_bookings)\n",
    "#upperTailWaldsTest(avg_bookings_manhattan, roosevelt_island_bookings)"
   ]
  },
  {
   "cell_type": "code",
   "execution_count": 137,
   "metadata": {},
   "outputs": [
    {
     "name": "stdout",
     "output_type": "stream",
     "text": [
      "absolute(w) = 3.6020699318457696\n",
      "Z0.025 = 1.959963984540054\n",
      "Null Hypothesis Rejected\n",
      "CI range: [0.21188740412103668, 0.7176911636607975]\n",
      "p-Value is 0.0003156934064875341\n",
      "Single Lower Tail Walds Test\n",
      "w = 3.6020699318457696\n",
      "Z0.05 = -1.6448536269514722\n",
      "Null Hypothesis Accepted\n"
     ]
    }
   ],
   "source": [
    "#HighPop-Low Crime\n",
    "WaldsTest(avg_bookings_manhattan, stuyvesant_town_bookings)\n",
    "lowerTailWaldsTest(avg_bookings_manhattan, stuyvesant_town_bookings)\n",
    "#upperTailWaldsTest(avg_bookings_manhattan, stuyvesant_town_bookings)"
   ]
  }
 ],
 "metadata": {
  "kernelspec": {
   "display_name": "Python 3",
   "language": "python",
   "name": "python3"
  },
  "language_info": {
   "codemirror_mode": {
    "name": "ipython",
    "version": 3
   },
   "file_extension": ".py",
   "mimetype": "text/x-python",
   "name": "python",
   "nbconvert_exporter": "python",
   "pygments_lexer": "ipython3",
   "version": "3.6.1"
  }
 },
 "nbformat": 4,
 "nbformat_minor": 2
}
